{
 "cells": [
  {
   "cell_type": "code",
   "execution_count": 1,
   "metadata": {
    "ExecuteTime": {
     "end_time": "2020-04-02T21:18:19.594277Z",
     "start_time": "2020-04-02T21:18:19.592005Z"
    }
   },
   "outputs": [],
   "source": [
    "# https://www.youtube.com/watch?v=D2TJ9wvSP94&list=PLqnslRFeH2UqLwzS0AwKDKLrpYBKzLBy2&index=8\n",
    "\n",
    ""
   ]
  },
  {
   "cell_type": "code",
   "execution_count": 2,
   "metadata": {
    "ExecuteTime": {
     "end_time": "2020-04-02T21:19:24.651044Z",
     "start_time": "2020-04-02T21:19:24.648620Z"
    }
   },
   "outputs": [],
   "source": [
    "#small 1 line anonymus fuction defined without a name\n",
    "\n",
    "# Format:\n",
    "# lambda arguements: expression"
   ]
  },
  {
   "cell_type": "code",
   "execution_count": 3,
   "metadata": {
    "ExecuteTime": {
     "end_time": "2020-04-02T21:20:36.450230Z",
     "start_time": "2020-04-02T21:20:36.446597Z"
    }
   },
   "outputs": [
    {
     "output_type": "stream",
     "name": "stdout",
     "text": "15\n"
    }
   ],
   "source": [
    "add10 = lambda x: x + 10\n",
    "\n",
    "print(add10(5))\n",
    "\n",
    "def add10_func(x):\n",
    "    return x + 10\n",
    "\n",
    "#these functions do the same but lambda is much shorter and only takes one line\n",
    ""
   ]
  },
  {
   "cell_type": "code",
   "execution_count": 4,
   "metadata": {
    "ExecuteTime": {
     "end_time": "2020-04-02T21:21:55.006885Z",
     "start_time": "2020-04-02T21:21:55.003000Z"
    }
   },
   "outputs": [
    {
     "output_type": "stream",
     "name": "stdout",
     "text": "8\n"
    }
   ],
   "source": [
    "mult = lambda x,y: y*x\n",
    "\n",
    "print(mult(2,4))"
   ]
  },
  {
   "cell_type": "code",
   "execution_count": 10,
   "metadata": {
    "ExecuteTime": {
     "end_time": "2020-04-02T21:34:14.074542Z",
     "start_time": "2020-04-02T21:34:14.069813Z"
    }
   },
   "outputs": [
    {
     "name": "stdout",
     "output_type": "stream",
     "text": [
      "[(1, 2), (15, 1), (5, -1), (10, 4)]\n",
      "[(5, -1), (15, 1), (1, 2), (10, 4)]\n"
     ]
    }
   ],
   "source": [
    "#sorted method with lambda as key arguement\n",
    "\n",
    "points2D = [(1,2),(15,1),(5,-1),(10,4)]\n",
    "points2D_sorted = sorted(points2D,key=lambda x: x[1]) #lambda function sorts by the second value in the tuple\n",
    "\n",
    "print(points2D)\n",
    "print(points2D_sorted)"
   ]
  },
  {
   "cell_type": "code",
   "execution_count": 11,
   "metadata": {
    "ExecuteTime": {
     "end_time": "2020-04-02T21:42:21.078310Z",
     "start_time": "2020-04-02T21:42:21.073915Z"
    }
   },
   "outputs": [
    {
     "name": "stdout",
     "output_type": "stream",
     "text": [
      "[(1, 2), (15, 1), (5, -1), (10, 4)]\n",
      "[(1, 2), (5, -1), (10, 4), (15, 1)]\n"
     ]
    }
   ],
   "source": [
    "points2D = [(1,2),(15,1),(5,-1),(10,4)]\n",
    "points2D_sorted = sorted(points2D,key=lambda x: x[0] + x[1]) #lambda function sorts by sum of the tuple\n",
    "\n",
    "print(points2D)\n",
    "print(points2D_sorted)"
   ]
  },
  {
   "cell_type": "code",
   "execution_count": 13,
   "metadata": {
    "ExecuteTime": {
     "end_time": "2020-04-02T21:47:11.604629Z",
     "start_time": "2020-04-02T21:47:11.600270Z"
    }
   },
   "outputs": [
    {
     "name": "stdout",
     "output_type": "stream",
     "text": [
      "[2, 4, 6, 8, 10]\n"
     ]
    }
   ],
   "source": [
    "#map function transforms each element with a function\n",
    "\n",
    "#map(func,seq)\n",
    "\n",
    "a = [1,2,3,4,5]\n",
    "\n",
    "b = map(lambda x: x*2,a)\n",
    "print(list(b))"
   ]
  },
  {
   "cell_type": "code",
   "execution_count": 14,
   "metadata": {
    "ExecuteTime": {
     "end_time": "2020-04-02T21:49:09.823275Z",
     "start_time": "2020-04-02T21:49:09.819333Z"
    }
   },
   "outputs": [
    {
     "name": "stdout",
     "output_type": "stream",
     "text": [
      "[2, 4, 6, 8, 10]\n"
     ]
    }
   ],
   "source": [
    "#list comprehensions can do the same thing as map\n",
    "\n",
    "c = [x*2 for x in a]\n",
    "print(c)"
   ]
  },
  {
   "cell_type": "code",
   "execution_count": 15,
   "metadata": {
    "ExecuteTime": {
     "end_time": "2020-04-02T21:50:39.452359Z",
     "start_time": "2020-04-02T21:50:39.448221Z"
    }
   },
   "outputs": [
    {
     "name": "stdout",
     "output_type": "stream",
     "text": [
      "[2, 4]\n"
     ]
    }
   ],
   "source": [
    "#filter function\n",
    "\n",
    "#filter(func, seq) will return all elements for which the function evaluates to true\n",
    "\n",
    "a = [1,2,3,4,5]\n",
    "b = filter(lambda x: x%2==0, a)\n",
    "print(list(b))\n"
   ]
  },
  {
   "cell_type": "code",
   "execution_count": 16,
   "metadata": {
    "ExecuteTime": {
     "end_time": "2020-04-02T21:51:24.495958Z",
     "start_time": "2020-04-02T21:51:24.492276Z"
    }
   },
   "outputs": [
    {
     "name": "stdout",
     "output_type": "stream",
     "text": [
      "[2, 4]\n"
     ]
    }
   ],
   "source": [
    "c = [x for x in a if x%2==0]\n",
    "print(c)"
   ]
  },
  {
   "cell_type": "code",
   "execution_count": 18,
   "metadata": {
    "ExecuteTime": {
     "end_time": "2020-04-02T21:53:56.034977Z",
     "start_time": "2020-04-02T21:53:56.030773Z"
    }
   },
   "outputs": [
    {
     "name": "stdout",
     "output_type": "stream",
     "text": [
      "24\n"
     ]
    }
   ],
   "source": [
    "#reduce function\n",
    "#reduce(func,seq) repeatedly applies the function to the elemetns and returns a single value\n",
    "from functools import reduce\n",
    "a = [1,2,3,4] #want to compute product of all the elements\n",
    "prd_a = reduce(lambda x,y: x*y,a)\n",
    "\n",
    "print(prd_a)\n",
    "\n"
   ]
  },
  {
   "cell_type": "code",
   "execution_count": null,
   "metadata": {},
   "outputs": [],
   "source": []
  }
 ],
 "metadata": {
  "kernelspec": {
   "display_name": "venv",
   "language": "python",
   "name": "venv"
  },
  "language_info": {
   "codemirror_mode": {
    "name": "ipython",
    "version": 3
   },
   "file_extension": ".py",
   "mimetype": "text/x-python",
   "name": "python",
   "nbconvert_exporter": "python",
   "pygments_lexer": "ipython3",
   "version": "3.7.6-final"
  },
  "toc": {
   "base_numbering": 1,
   "nav_menu": {},
   "number_sections": true,
   "sideBar": true,
   "skip_h1_title": false,
   "title_cell": "Table of Contents",
   "title_sidebar": "Contents",
   "toc_cell": false,
   "toc_position": {},
   "toc_section_display": true,
   "toc_window_display": false
  }
 },
 "nbformat": 4,
 "nbformat_minor": 2
}
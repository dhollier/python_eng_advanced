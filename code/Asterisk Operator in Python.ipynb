{
 "nbformat": 4,
 "nbformat_minor": 2,
 "metadata": {
  "language_info": {
   "name": "python",
   "codemirror_mode": {
    "name": "ipython",
    "version": 3
   },
   "version": "3.7.6-final"
  },
  "orig_nbformat": 2,
  "file_extension": ".py",
  "mimetype": "text/x-python",
  "name": "python",
  "npconvert_exporter": "python",
  "pygments_lexer": "ipython3",
  "version": 3,
  "kernelspec": {
   "name": "python37664bitvenvvenv68b444bbdb9248a4befa50582545e3e5",
   "display_name": "Python 3.7.6 64-bit ('venv': venv)"
  }
 },
 "cells": [
  {
   "cell_type": "code",
   "execution_count": 1,
   "metadata": {},
   "outputs": [],
   "source": [
    "# https://www.youtube.com/watch?v=M7daahMOMMc&list=PLqnslRFeH2UqLwzS0AwKDKLrpYBKzLBy2&index=19\n",
    "\n",
    "# The Asterisk(*) Operator in Python"
   ]
  },
  {
   "cell_type": "code",
   "execution_count": 2,
   "metadata": {},
   "outputs": [],
   "source": [
    "# * can be used for \n",
    "#     multiplicaiton and co operations\n",
    "#     creations of lists or tuples with repeated elemetns\n",
    "#     args kwargs\n",
    "#     unpacking lists tuples and dicitonareies into function args\n",
    "#     unpacking containers mergeing containers and dictionaries \n",
    "\n",
    "\n",
    ""
   ]
  },
  {
   "cell_type": "code",
   "execution_count": 8,
   "metadata": {},
   "outputs": [
    {
     "output_type": "stream",
     "name": "stdout",
     "text": "4\n16\n"
    }
   ],
   "source": [
    "# multiplication\n",
    "result = 2*2\n",
    "print(result)\n",
    "\n",
    "#power operation\n",
    "result = 2**4\n",
    "print(result)"
   ]
  },
  {
   "cell_type": "code",
   "execution_count": 13,
   "metadata": {},
   "outputs": [
    {
     "output_type": "stream",
     "name": "stdout",
     "text": "[0, 0, 0, 0, 0, 0, 0, 0, 0, 0]\n[0, 1, 0, 1, 0, 1, 0, 1, 0, 1, 0, 1, 0, 1, 0, 1, 0, 1, 0, 1]\nABABABABABABABABABAB\n(0, 1, 0, 1, 0, 1, 0, 1, 0, 1, 0, 1, 0, 1, 0, 1, 0, 1, 0, 1)\n"
    }
   ],
   "source": [
    "#create lists tuples or strings with repeated elements\n",
    "\n",
    "zeros = [0] * 10\n",
    "zeros1 = [0,1] *10\n",
    "ab = \"AB\" * 10\n",
    "tupleex = (0,1) * 10\n",
    "print(zeros)\n",
    "print(zeros1)\n",
    "print(ab)\n",
    "print(tupleex)"
   ]
  },
  {
   "cell_type": "code",
   "execution_count": 19,
   "metadata": {},
   "outputs": [
    {
     "output_type": "stream",
     "name": "stdout",
     "text": "0 1\n2\n1 2\nc 3\n1 2\n3\n4\n5\nsix 6\nseven 7\n"
    }
   ],
   "source": [
    "# pass to function args and kwargs\n",
    "\n",
    "def foo(a,b,*args,**kwargs):\n",
    "\n",
    "    print(a,b)\n",
    "    for arg in args:\n",
    "        print(arg)\n",
    "    for key in kwargs:\n",
    "        print(key,kwargs[key])\n",
    "\n",
    "\n",
    "mylist = [0,1,2]\n",
    "\n",
    "#unpacking lists into functions\n",
    "foo(*mylist) #number of elements in list must match number of arguments in the function\n",
    "\n",
    "mydict = {'a':1,'b':2,'c':3} #name of keys and number of elements must match the function\n",
    "\n",
    "foo(**mydict)\n",
    "\n",
    "\n",
    "foo(1,2,3,4,5,six=6,seven=7)"
   ]
  },
  {
   "cell_type": "code",
   "execution_count": 23,
   "metadata": {},
   "outputs": [
    {
     "output_type": "stream",
     "name": "stdout",
     "text": "1\n6\n[2, 4, 5]\n"
    }
   ],
   "source": [
    "# unpacking containers (lists, tuples, sets) into single and multiple remaining elements\n",
    "\n",
    "numbers = [1,2,4,5,6]\n",
    "\n",
    "*start , last = numbers\n",
    "start , *last = numbers\n",
    "start , *middle, last = numbers\n",
    "\n",
    "print(start) # will print all elements except for last, but will always create a list\n",
    "print(last) # will print just the last and make it a single number\n",
    "print(middle)\n",
    ""
   ]
  },
  {
   "cell_type": "code",
   "execution_count": 27,
   "metadata": {},
   "outputs": [
    {
     "output_type": "stream",
     "name": "stdout",
     "text": "[1, 2, 3, 4, 5, 6, 8, 9, 7]\n{'a': 1, 'b': 2, 'c': 3}\n"
    }
   ],
   "source": [
    "# merge iterables into a list \n",
    "\n",
    "mytuple = (1,2,3)\n",
    "mylist = [4,5,6]\n",
    "myset = {7,8,9}\n",
    "\n",
    "new_list = [*mytuple,*mylist,*myset]\n",
    "\n",
    "print(new_list)\n",
    "\n",
    "\n",
    "dict_a = {'a':1,'b':2}\n",
    "dict_b = {'c':3,'d':4}\n",
    "\n",
    "my_dict = {**dict_a,**dict_b}\n",
    "\n",
    "print(mydict)"
   ]
  },
  {
   "cell_type": "code",
   "execution_count": null,
   "metadata": {},
   "outputs": [],
   "source": []
  }
 ]
}
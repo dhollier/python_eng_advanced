{
 "cells": [
  {
   "cell_type": "code",
   "execution_count": 1,
   "metadata": {},
   "outputs": [],
   "source": [
    "# https://www.youtube.com/watch?v=LTXnQdrwyrw&list=PLqnslRFeH2UqLwzS0AwKDKLrpYBKzLBy2&index=3\n",
    "\n",
    "# Dictionary: Keyvalue pairs, unordered, mutable "
   ]
  },
  {
   "cell_type": "code",
   "execution_count": 11,
   "metadata": {},
   "outputs": [
    {
     "name": "stdout",
     "output_type": "stream",
     "text": [
      "{'name': 'Max', 'age': 28, 'city': 'New York'}\n",
      "{'name': 'Mary', 'age': 27, 'city': 'Boston'}\n",
      "Max\n"
     ]
    }
   ],
   "source": [
    "mydict = {'name':'Max','age': 28,'city':'New York'}\n",
    "\n",
    "print(mydict)\n",
    "\n",
    "mydict2 = dict(name='Mary',age=27,city='Boston')\n",
    "\n",
    "print(mydict2)\n",
    "\n",
    "value=mydict['name']\n",
    "print(value)"
   ]
  },
  {
   "cell_type": "code",
   "execution_count": 12,
   "metadata": {},
   "outputs": [
    {
     "name": "stdout",
     "output_type": "stream",
     "text": [
      "{'name': 'Max', 'age': 28, 'city': 'New York', 'email': 'max@xyz.com'}\n",
      "{'name': 'Max', 'age': 28, 'city': 'New York', 'email': 'maxcool@xyz.com'}\n"
     ]
    }
   ],
   "source": [
    "#mutable so we can add or change\n",
    "\n",
    "mydict['email']='max@xyz.com'\n",
    "print(mydict)\n",
    "#overwrites if key already exists\n",
    "mydict['email']='maxcool@xyz.com'\n",
    "print(mydict)"
   ]
  },
  {
   "cell_type": "code",
   "execution_count": 16,
   "metadata": {},
   "outputs": [
    {
     "name": "stdout",
     "output_type": "stream",
     "text": [
      "{'age': 28, 'city': 'New York', 'email': 'maxcool@xyz.com'}\n",
      "{'city': 'New York', 'email': 'maxcool@xyz.com'}\n"
     ]
    }
   ],
   "source": [
    "#delting keys\n",
    "\n",
    "del mydict['name']\n",
    "print(mydict)\n",
    "\n",
    "mydict.pop('age')\n",
    "print(mydict)"
   ]
  },
  {
   "cell_type": "code",
   "execution_count": 18,
   "metadata": {},
   "outputs": [
    {
     "name": "stdout",
     "output_type": "stream",
     "text": [
      "Error\n"
     ]
    }
   ],
   "source": [
    "#check if key in dict\n",
    "\n",
    "if 'name' in mydict:\n",
    "    print(mydict2['name'])\n",
    "     \n",
    "try:\n",
    "    print(mydict['name'])\n",
    "except:\n",
    "    print('Error')"
   ]
  },
  {
   "cell_type": "code",
   "execution_count": 27,
   "metadata": {},
   "outputs": [
    {
     "name": "stdout",
     "output_type": "stream",
     "text": [
      "name\n",
      "age\n",
      "city\n",
      "name\n",
      "age\n",
      "city\n",
      "Mary\n",
      "27\n",
      "Boston\n"
     ]
    }
   ],
   "source": [
    "#loop through dict \n",
    "\n",
    "for key in mydict2:\n",
    "    print(key)\n",
    "    \n",
    "    \n",
    "for key in mydict2.keys():\n",
    "    print(key)\n",
    "    \n",
    "for value in mydict2.values():\n",
    "    print(value)\n"
   ]
  },
  {
   "cell_type": "code",
   "execution_count": 26,
   "metadata": {},
   "outputs": [
    {
     "name": "stdout",
     "output_type": "stream",
     "text": [
      "name Mary\n",
      "age 27\n",
      "city Boston\n"
     ]
    }
   ],
   "source": [
    "    \n",
    "for key,value in mydict2.items():\n",
    "    print(key,value)"
   ]
  },
  {
   "cell_type": "code",
   "execution_count": 29,
   "metadata": {},
   "outputs": [
    {
     "name": "stdout",
     "output_type": "stream",
     "text": [
      "{'name': 'Mary', 'age': 27, 'city': 'Boston'}\n"
     ]
    }
   ],
   "source": [
    "#copy\n",
    "\n",
    "mydict2_cpy = mydict2 #this creates a link where modifying one will modify the other\n",
    "print(mydict2_cpy)\n",
    "\n",
    "\n",
    "#make actual copy\n",
    "\n",
    "mydict2_cpy = mydict2.copy()\n",
    "#or\n",
    "mydict2_cpy = dict(mydict2)"
   ]
  },
  {
   "cell_type": "code",
   "execution_count": 30,
   "metadata": {},
   "outputs": [
    {
     "name": "stdout",
     "output_type": "stream",
     "text": [
      "{'name': 'Mary', 'age': 27, 'email': 'coolguymax@gmail.com', 'city': 'Boston'}\n"
     ]
    }
   ],
   "source": [
    "#merge dicts\n",
    "my_dict = {'name':'Max','age': 28,'email':'coolguymax@gmail.com'}\n",
    "my_dict2 = dict(name='Mary',age=27,city='Boston')\n",
    "\n",
    "my_dict.update(my_dict2)\n",
    "\n",
    "print(my_dict)\n",
    "\n",
    "#updates values in the original with the new "
   ]
  },
  {
   "cell_type": "code",
   "execution_count": null,
   "metadata": {},
   "outputs": [],
   "source": [
    "#possible key types for names:\n",
    "#anything immutable\n",
    "#numbers, strings, tuples, cannnot use lists"
   ]
  }
 ],
 "metadata": {
  "kernelspec": {
   "display_name": "venv",
   "language": "python",
   "name": "venv"
  },
  "language_info": {
   "codemirror_mode": {
    "name": "ipython",
    "version": 3
   },
   "file_extension": ".py",
   "mimetype": "text/x-python",
   "name": "python",
   "nbconvert_exporter": "python",
   "pygments_lexer": "ipython3",
   "version": "3.7.6"
  }
 },
 "nbformat": 4,
 "nbformat_minor": 2
}

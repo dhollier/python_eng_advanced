{
 "cells": [
  {
   "cell_type": "code",
   "execution_count": 1,
   "metadata": {
    "ExecuteTime": {
     "end_time": "2020-03-24T17:15:05.364861Z",
     "start_time": "2020-03-24T17:15:05.356956Z"
    }
   },
   "outputs": [],
   "source": [
    "# https://www.youtube.com/watch?v=Qs3BSFZnZSI&list=PLqnslRFeH2UqLwzS0AwKDKLrpYBKzLBy2&index=4\n",
    "\n",
    "# Sets: unordered, mutable, no dupes"
   ]
  },
  {
   "cell_type": "code",
   "execution_count": 8,
   "metadata": {
    "ExecuteTime": {
     "end_time": "2020-03-24T17:16:59.331126Z",
     "start_time": "2020-03-24T17:16:59.326148Z"
    }
   },
   "outputs": [
    {
     "ename": "SyntaxError",
     "evalue": "invalid syntax (<ipython-input-8-93c6e55c3860>, line 10)",
     "output_type": "error",
     "traceback": [
      "\u001b[0;36m  File \u001b[0;32m\"<ipython-input-8-93c6e55c3860>\"\u001b[0;36m, line \u001b[0;32m10\u001b[0m\n\u001b[0;31m    myset = set() e\u001b[0m\n\u001b[0m                  ^\u001b[0m\n\u001b[0;31mSyntaxError\u001b[0m\u001b[0;31m:\u001b[0m invalid syntax\n"
     ]
    }
   ],
   "source": [
    "myset ={1,2,3}\n",
    "print(myset)\n",
    "\n",
    "myset ={1,2,3,1,2} # no dupes\n",
    "print(myset)\n",
    "\n",
    "myset = set(\"hello\") # unordered...order is arbitrary\n",
    "print(myset)\n",
    "\n",
    "myset = set() #creates empty set\n"
   ]
  },
  {
   "cell_type": "code",
   "execution_count": 9,
   "metadata": {
    "ExecuteTime": {
     "end_time": "2020-03-24T17:17:52.906045Z",
     "start_time": "2020-03-24T17:17:52.902132Z"
    }
   },
   "outputs": [
    {
     "name": "stdout",
     "output_type": "stream",
     "text": [
      "set()\n",
      "{1, 2, 3}\n"
     ]
    }
   ],
   "source": [
    "myset = set() #creates empty set\n",
    "print(myset)\n",
    "myset.add(1) #add to set\n",
    "myset.add(2)\n",
    "myset.add(3)\n",
    "\n",
    "print(myset)"
   ]
  },
  {
   "cell_type": "raw",
   "metadata": {},
   "source": []
  },
  {
   "cell_type": "code",
   "execution_count": 11,
   "metadata": {
    "ExecuteTime": {
     "end_time": "2020-03-24T17:19:27.045572Z",
     "start_time": "2020-03-24T17:19:27.042343Z"
    }
   },
   "outputs": [
    {
     "name": "stdout",
     "output_type": "stream",
     "text": [
      "{1, 2}\n"
     ]
    }
   ],
   "source": [
    " myset.remove(3)\n",
    "print(myset)"
   ]
  },
  {
   "cell_type": "code",
   "execution_count": 12,
   "metadata": {
    "ExecuteTime": {
     "end_time": "2020-03-24T17:20:05.616806Z",
     "start_time": "2020-03-24T17:20:05.613805Z"
    }
   },
   "outputs": [],
   "source": [
    "myset.discard(4) #removes element if found if not found no eerror"
   ]
  },
  {
   "cell_type": "code",
   "execution_count": 13,
   "metadata": {
    "ExecuteTime": {
     "end_time": "2020-03-24T17:20:15.943762Z",
     "start_time": "2020-03-24T17:20:15.941110Z"
    }
   },
   "outputs": [],
   "source": [
    "myset.clear() #empties set"
   ]
  },
  {
   "cell_type": "code",
   "execution_count": 15,
   "metadata": {
    "ExecuteTime": {
     "end_time": "2020-03-24T17:20:28.177926Z",
     "start_time": "2020-03-24T17:20:28.174231Z"
    }
   },
   "outputs": [
    {
     "name": "stdout",
     "output_type": "stream",
     "text": [
      "set()\n"
     ]
    }
   ],
   "source": [
    "print(myset)"
   ]
  },
  {
   "cell_type": "code",
   "execution_count": 16,
   "metadata": {
    "ExecuteTime": {
     "end_time": "2020-03-24T17:20:52.103992Z",
     "start_time": "2020-03-24T17:20:52.100580Z"
    }
   },
   "outputs": [
    {
     "name": "stdout",
     "output_type": "stream",
     "text": [
      "1\n",
      "2\n",
      "3\n"
     ]
    }
   ],
   "source": [
    "myset ={1,2,3}\n",
    "\n",
    "for i in myset:\n",
    "    print(i)"
   ]
  },
  {
   "cell_type": "code",
   "execution_count": 17,
   "metadata": {
    "ExecuteTime": {
     "end_time": "2020-03-24T17:21:10.855224Z",
     "start_time": "2020-03-24T17:21:10.851890Z"
    }
   },
   "outputs": [
    {
     "name": "stdout",
     "output_type": "stream",
     "text": [
      "yes\n"
     ]
    }
   ],
   "source": [
    "#check if element in set\n",
    "\n",
    "if 1 in myset:\n",
    "    print('yes')"
   ]
  },
  {
   "cell_type": "code",
   "execution_count": 18,
   "metadata": {
    "ExecuteTime": {
     "end_time": "2020-03-24T17:22:11.083841Z",
     "start_time": "2020-03-24T17:22:11.080606Z"
    }
   },
   "outputs": [],
   "source": [
    "odds = {1,3,5,7,9}\n",
    "evens ={0,2,4,6,8}\n",
    "primes = {2,3,5,7}"
   ]
  },
  {
   "cell_type": "code",
   "execution_count": 19,
   "metadata": {
    "ExecuteTime": {
     "end_time": "2020-03-24T17:23:15.464490Z",
     "start_time": "2020-03-24T17:23:15.460698Z"
    }
   },
   "outputs": [
    {
     "name": "stdout",
     "output_type": "stream",
     "text": [
      "{0, 1, 2, 3, 4, 5, 6, 7, 8, 9}\n"
     ]
    }
   ],
   "source": [
    "#union combinnes elements from both sets w/o dupes\n",
    "\n",
    "u = odds.union(evens)\n",
    "print(u)"
   ]
  },
  {
   "cell_type": "code",
   "execution_count": 23,
   "metadata": {
    "ExecuteTime": {
     "end_time": "2020-03-24T17:24:21.312953Z",
     "start_time": "2020-03-24T17:24:21.308553Z"
    }
   },
   "outputs": [
    {
     "name": "stdout",
     "output_type": "stream",
     "text": [
      "set()\n",
      "{3, 5, 7}\n",
      "{2}\n"
     ]
    }
   ],
   "source": [
    "#intersection only elements in both sets\n",
    "i=odds.intersection(evens)\n",
    "print(i)\n",
    "\n",
    "i=odds.intersection(primes)\n",
    "print(i)\n",
    "\n",
    "i=evens.intersection(primes)\n",
    "print(i)"
   ]
  },
  {
   "cell_type": "code",
   "execution_count": 27,
   "metadata": {
    "ExecuteTime": {
     "end_time": "2020-03-24T17:27:01.579187Z",
     "start_time": "2020-03-24T17:27:01.574289Z"
    }
   },
   "outputs": [
    {
     "name": "stdout",
     "output_type": "stream",
     "text": [
      "{4, 5, 6, 7, 8, 9}\n",
      "{4, 5, 6, 7, 8, 9, 10, 11, 12}\n"
     ]
    }
   ],
   "source": [
    "#difference of 2 sets\n",
    "\n",
    "setA = {1,2,3,4,5,6,7,8,9}\n",
    "setB = {1,2,3,10,11,12}\n",
    "\n",
    "diff = setA.difference(setB)\n",
    "print(diff)\n",
    "\n",
    "sdiff = setA.symmetric_difference(setB) #elements that are in each but not in both\n",
    "print(sdiff)"
   ]
  },
  {
   "cell_type": "code",
   "execution_count": 29,
   "metadata": {
    "ExecuteTime": {
     "end_time": "2020-03-24T17:28:50.473201Z",
     "start_time": "2020-03-24T17:28:50.468223Z"
    }
   },
   "outputs": [
    {
     "name": "stdout",
     "output_type": "stream",
     "text": [
      "{1, 2, 3, 4, 5, 6, 7, 8, 9, 10, 11, 12}\n"
     ]
    }
   ],
   "source": [
    "setA = {1,2,3,4,5,6,7,8,9}\n",
    "setB = {1,2,3,10,11,12}\n",
    "\n",
    "setA.update(setB)\n",
    "\n",
    "print(setA) \n",
    "\n",
    "#combines elements from both w/o dupes\n"
   ]
  },
  {
   "cell_type": "code",
   "execution_count": 30,
   "metadata": {
    "ExecuteTime": {
     "end_time": "2020-03-24T17:30:14.686573Z",
     "start_time": "2020-03-24T17:30:14.682206Z"
    }
   },
   "outputs": [
    {
     "name": "stdout",
     "output_type": "stream",
     "text": [
      "{1, 2, 3}\n"
     ]
    }
   ],
   "source": [
    "setA = {1,2,3,4,5,6,7,8,9}\n",
    "setB = {1,2,3,10,11,12}\n",
    "\n",
    "setA.intersection_update(setB)\n",
    "print(setA)\n",
    "\n",
    "#updates the set keeping only elements in both\n"
   ]
  },
  {
   "cell_type": "code",
   "execution_count": 31,
   "metadata": {
    "ExecuteTime": {
     "end_time": "2020-03-24T17:31:54.430467Z",
     "start_time": "2020-03-24T17:31:54.425706Z"
    }
   },
   "outputs": [
    {
     "name": "stdout",
     "output_type": "stream",
     "text": [
      "{4, 5, 6, 7, 8, 9}\n"
     ]
    }
   ],
   "source": [
    "setA = {1,2,3,4,5,6,7,8,9}\n",
    "setB = {1,2,3,10,11,12}\n",
    "\n",
    "setA.difference_update(setB)\n",
    "print(setA)"
   ]
  },
  {
   "cell_type": "code",
   "execution_count": 32,
   "metadata": {
    "ExecuteTime": {
     "end_time": "2020-03-24T17:32:27.442307Z",
     "start_time": "2020-03-24T17:32:27.437316Z"
    }
   },
   "outputs": [
    {
     "name": "stdout",
     "output_type": "stream",
     "text": [
      "{4, 5, 6, 7, 8, 9, 10, 11, 12}\n"
     ]
    }
   ],
   "source": [
    "setA = {1,2,3,4,5,6,7,8,9}\n",
    "setB = {1,2,3,10,11,12}\n",
    "\n",
    "setA.symmetric_difference_update(setB)\n",
    "print(setA)"
   ]
  },
  {
   "cell_type": "code",
   "execution_count": 34,
   "metadata": {
    "ExecuteTime": {
     "end_time": "2020-03-24T18:36:04.701015Z",
     "start_time": "2020-03-24T18:36:04.695729Z"
    }
   },
   "outputs": [
    {
     "data": {
      "text/plain": [
       "True"
      ]
     },
     "execution_count": 34,
     "metadata": {},
     "output_type": "execute_result"
    }
   ],
   "source": [
    "setA = {1,2,3,4,5,6}\n",
    "setB = {1,2,3}\n",
    "\n",
    "setA.issubset(setB)#are all elements in A also in setB\n",
    "\n",
    "\n",
    "\n",
    "setB.issubset(setA) #are all elements in B also in setA\n",
    "\n"
   ]
  },
  {
   "cell_type": "code",
   "execution_count": 35,
   "metadata": {
    "ExecuteTime": {
     "end_time": "2020-03-24T19:17:10.473888Z",
     "start_time": "2020-03-24T19:17:10.467720Z"
    }
   },
   "outputs": [
    {
     "data": {
      "text/plain": [
       "True"
      ]
     },
     "execution_count": 35,
     "metadata": {},
     "output_type": "execute_result"
    }
   ],
   "source": [
    "setA = {1,2,3,4,5,6}\n",
    "setB = {1,2,3}\n",
    "\n",
    "setA.issuperset(setB)# does first set contain all elements from second set"
   ]
  },
  {
   "cell_type": "code",
   "execution_count": 37,
   "metadata": {
    "ExecuteTime": {
     "end_time": "2020-03-24T19:18:20.832696Z",
     "start_time": "2020-03-24T19:18:20.827330Z"
    }
   },
   "outputs": [
    {
     "data": {
      "text/plain": [
       "False"
      ]
     },
     "execution_count": 37,
     "metadata": {},
     "output_type": "execute_result"
    }
   ],
   "source": [
    "setA = {1,2,3,4,5,6}\n",
    "setB = {1,2,3}\n",
    "\n",
    "setA.isdisjoint(setB)# do both sets have no overlapping values"
   ]
  },
  {
   "cell_type": "code",
   "execution_count": 39,
   "metadata": {
    "ExecuteTime": {
     "end_time": "2020-03-24T19:37:16.615565Z",
     "start_time": "2020-03-24T19:37:16.612531Z"
    }
   },
   "outputs": [],
   "source": [
    "#copying sets\n",
    "setA = {1,2,3,4,5,6}\n",
    " #setB=setA # this will make an assignment to setA and changing one will change the other\n",
    "    \n",
    "setB = setA.copy()"
   ]
  },
  {
   "cell_type": "code",
   "execution_count": 40,
   "metadata": {
    "ExecuteTime": {
     "end_time": "2020-03-24T19:37:50.971109Z",
     "start_time": "2020-03-24T19:37:50.967594Z"
    }
   },
   "outputs": [
    {
     "name": "stdout",
     "output_type": "stream",
     "text": [
      "frozenset({1, 2, 3, 4, 5})\n"
     ]
    }
   ],
   "source": [
    "#frozen set is immutable version of a normal set, cant be changed or updated\n",
    "\n",
    "a= frozenset([1,2,3,4,5])\n",
    "\n",
    "print(a)"
   ]
  },
  {
   "cell_type": "code",
   "execution_count": null,
   "metadata": {},
   "outputs": [],
   "source": []
  }
 ],
 "metadata": {
  "kernelspec": {
   "display_name": "venv",
   "language": "python",
   "name": "venv"
  },
  "language_info": {
   "codemirror_mode": {
    "name": "ipython",
    "version": 3
   },
   "file_extension": ".py",
   "mimetype": "text/x-python",
   "name": "python",
   "nbconvert_exporter": "python",
   "pygments_lexer": "ipython3",
   "version": "3.7.6"
  },
  "toc": {
   "base_numbering": 1,
   "nav_menu": {},
   "number_sections": true,
   "sideBar": true,
   "skip_h1_title": false,
   "title_cell": "Table of Contents",
   "title_sidebar": "Contents",
   "toc_cell": false,
   "toc_position": {},
   "toc_section_display": true,
   "toc_window_display": false
  }
 },
 "nbformat": 4,
 "nbformat_minor": 2
}

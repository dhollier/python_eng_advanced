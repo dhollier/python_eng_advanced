{
 "nbformat": 4,
 "nbformat_minor": 2,
 "metadata": {
  "language_info": {
   "name": "python",
   "codemirror_mode": {
    "name": "ipython",
    "version": 3
   },
   "version": "3.7.6-final"
  },
  "orig_nbformat": 2,
  "file_extension": ".py",
  "mimetype": "text/x-python",
  "name": "python",
  "npconvert_exporter": "python",
  "pygments_lexer": "ipython3",
  "version": 3,
  "kernelspec": {
   "name": "python37664bitvenvvenv68b444bbdb9248a4befa50582545e3e5",
   "display_name": "Python 3.7.6 64-bit ('venv': venv)"
  }
 },
 "cells": [
  {
   "cell_type": "code",
   "execution_count": 1,
   "metadata": {},
   "outputs": [],
   "source": [
    "# https://www.youtube.com/watch?v=vbtxtvuCFRM&list=PLqnslRFeH2UqLwzS0AwKDKLrpYBKzLBy2&index=15\n",
    "\n",
    "# Threading vs Multiprocessing in Python\n",
    "#running code in paraellel and speed up code\n",
    ""
   ]
  },
  {
   "cell_type": "code",
   "execution_count": 2,
   "metadata": {},
   "outputs": [],
   "source": [
    "# Process: an instance of a program (ex. Python Interpreter)\n",
    "\n",
    "# + Takes advantage of multiple cpus and cores\n",
    "\n",
    "# + Separate memory space -> memory not shared between processes\n",
    "\n",
    "# + Great for CPU bound processing \n",
    "\n",
    "# + new process is stated independently from other processes\n",
    "\n",
    "# + processes are interuptable/killable\n",
    "\n",
    "# + one GIL for each process -> avoids GIL Limitation\n",
    "\n",
    "# - Heavy weight\n",
    "# - Starting a process is slower than starting a thread\n",
    "# - More Memory\n",
    "# - IPC (interprocess communication) is more complicated"
   ]
  },
  {
   "cell_type": "code",
   "execution_count": 3,
   "metadata": {},
   "outputs": [],
   "source": [
    "# Threads: an entity within a process that can be scheduled (also known as a lightweight process), a process can spawn multiple threads\n",
    "\n",
    "# + All threads within a process share the same memory\n",
    "# + lightweight\n",
    "# + starting a thread is faster than starting a process\n",
    "# + great for i/o bound tasks\n",
    "\n",
    "# - threading is limited by GIL : only one thread at a time\n",
    "# - no effect for cpu-bound tasks\n",
    "# - not interruptable / killable\n",
    "# - careful with race conditions\n",
    "# race conditions occur when 2 or more threads want to access the same variable at the same time"
   ]
  },
  {
   "cell_type": "code",
   "execution_count": 4,
   "metadata": {},
   "outputs": [],
   "source": [
    "# GIL: Global interpreter lock\n",
    "# - a lock that allows only 1 thread to execture at a time in Python\n",
    "\n",
    "# Needed in CPython because memory management is not safe\n",
    "\n",
    "# - Avoid:\n",
    "#     - use multiprocessing\n",
    "#     - use a different, free-threaded pythong implementation (Jython, IronPython)\n",
    "#     - use Python as a wrapper for third-party libraries (C/C++) -> numpy, scipy"
   ]
  },
  {
   "cell_type": "code",
   "execution_count": 5,
   "metadata": {},
   "outputs": [
    {
     "output_type": "stream",
     "name": "stdout",
     "text": "This machine has 12 cpus\n"
    }
   ],
   "source": [
    "#lets start with Multiprocessing\n",
    "\n",
    "from multiprocessing import Process\n",
    "import os\n",
    "import time\n",
    "\n",
    "processes = []\n",
    "num_processes = os.cpu_count() # a good number of processes to pick is the number of cpus you have\n",
    "\n",
    "print(f'This machine has {num_processes} cpus')\n",
    "\n",
    "#create function we want to run\n",
    "\n",
    "def square_nums():\n",
    "    for i in range(100):\n",
    "        i * i\n",
    "        time.sleep(0.1)\n",
    ""
   ]
  },
  {
   "cell_type": "code",
   "execution_count": 6,
   "metadata": {},
   "outputs": [
    {
     "output_type": "stream",
     "name": "stdout",
     "text": "end main\n"
    }
   ],
   "source": [
    "for i in range(num_processes):\n",
    "    # p = Process(target=square_nums, args=()) if function has args we specify them as a tuple in the args section\n",
    "    p = Process(target=square_nums)\n",
    "    processes.append(p)\n",
    "\n",
    "# start\n",
    "for p in processes:\n",
    "        p.start()\n",
    "# join\n",
    "for p in processes:\n",
    "        p.join()\n",
    "        #here we are waiting for all processes to finish while blocking the main thread as we wait\n",
    "\n",
    "print('end main') #will hit here when all processes are done\n",
    "    "
   ]
  },
  {
   "cell_type": "code",
   "execution_count": 7,
   "metadata": {},
   "outputs": [
    {
     "output_type": "stream",
     "name": "stdout",
     "text": "end main\n"
    }
   ],
   "source": [
    "from threading import Thread\n",
    "\n",
    "threads = []\n",
    "num_threads = 10\n",
    "\n",
    "for i in range(num_processes):\n",
    "    # p = Process(target=square_nums, args=()) if function has args we specify them as a tuple in the args section\n",
    "    t = Thread(target=square_nums)\n",
    "    threads.append(t)\n",
    "\n",
    "# start\n",
    "for t in threads:\n",
    "        t.start()\n",
    "# join\n",
    "for t in threads:\n",
    "        t.join()\n",
    "        #here we are waiting for all processes to finish while blocking the main thread as we wait\n",
    "\n",
    "print('end main') #will hit here when all processes are done\n",
    "    "
   ]
  },
  {
   "cell_type": "code",
   "execution_count": null,
   "metadata": {},
   "outputs": [],
   "source": []
  },
  {
   "cell_type": "code",
   "execution_count": null,
   "metadata": {},
   "outputs": [],
   "source": []
  },
  {
   "cell_type": "code",
   "execution_count": null,
   "metadata": {},
   "outputs": [],
   "source": []
  },
  {
   "cell_type": "code",
   "execution_count": null,
   "metadata": {},
   "outputs": [],
   "source": []
  },
  {
   "cell_type": "code",
   "execution_count": null,
   "metadata": {},
   "outputs": [],
   "source": []
  }
 ]
}
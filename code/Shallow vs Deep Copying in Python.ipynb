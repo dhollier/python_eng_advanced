{
 "nbformat": 4,
 "nbformat_minor": 2,
 "metadata": {
  "language_info": {
   "name": "python",
   "codemirror_mode": {
    "name": "ipython",
    "version": 3
   },
   "version": "3.7.6-final"
  },
  "orig_nbformat": 2,
  "file_extension": ".py",
  "mimetype": "text/x-python",
  "name": "python",
  "npconvert_exporter": "python",
  "pygments_lexer": "ipython3",
  "version": 3,
  "kernelspec": {
   "name": "python37664bitvenvvenv68b444bbdb9248a4befa50582545e3e5",
   "display_name": "Python 3.7.6 64-bit ('venv': venv)"
  }
 },
 "cells": [
  {
   "cell_type": "code",
   "execution_count": 1,
   "metadata": {},
   "outputs": [],
   "source": [
    "# https://www.youtube.com/watch?v=RQ6Ur_T0G3Y&list=PLqnslRFeH2UqLwzS0AwKDKLrpYBKzLBy2&index=20"
   ]
  },
  {
   "cell_type": "code",
   "execution_count": 2,
   "metadata": {},
   "outputs": [
    {
     "output_type": "stream",
     "name": "stdout",
     "text": "6\n5\n[-10, 1, 2, 3, 4]\n[-10, 1, 2, 3, 4]\n"
    }
   ],
   "source": [
    "#assignemnt operator\n",
    "\n",
    "org = 5\n",
    "cpy = org\n",
    "\n",
    "#this will not make a real copy it will make a new variable with the same reference\n",
    "\n",
    "\n",
    "cpy = 6 #then creates new variable \n",
    "\n",
    "print(cpy)\n",
    "print(org)\n",
    "\n",
    "\n",
    "# dealing with mutable types we have to be careful because they wont change\n",
    "\n",
    "orgList = [0,1,2,3,4]\n",
    "cpyList = orgList\n",
    "\n",
    "cpyList[0] = -10\n",
    "\n",
    "print(cpyList)\n",
    "print(orgList)\n",
    "#both changed because cpylist is just a var pointing to the same object in memory\n",
    ""
   ]
  },
  {
   "cell_type": "code",
   "execution_count": 3,
   "metadata": {},
   "outputs": [
    {
     "output_type": "stream",
     "name": "stdout",
     "text": "[-10, 1, 2, 3, 4]\n[0, 1, 2, 3, 4]\n"
    }
   ],
   "source": [
    "# to actually create a copy of a mutable object we need the copy module\n",
    "\n",
    "import copy\n",
    "\n",
    "# shallow copy : only one level deep, only refernces of nested child objects\n",
    "\n",
    "# deep: copy: full independent copy\n",
    "\n",
    "#shallow ex:\n",
    "\n",
    "org = [0,1,2,3,4]\n",
    "cpy = copy.copy(org)\n",
    "# other ways to do this:\n",
    "    # cpy = org.copy()\n",
    "    # cpy= list(org)\n",
    "    # cpy = org[:]\n",
    "cpy[0] = -10\n",
    "\n",
    "print(cpy)\n",
    "print(org)\n",
    "\n",
    "# the original is unaffected if the list is only 1 level deep"
   ]
  },
  {
   "cell_type": "code",
   "execution_count": 4,
   "metadata": {},
   "outputs": [
    {
     "output_type": "stream",
     "name": "stdout",
     "text": "[[0, -10, 2, 3, 4], [5, 6, 7, 8, 9]]\n[[0, -10, 2, 3, 4], [5, 6, 7, 8, 9]]\n"
    }
   ],
   "source": [
    "#shallow  w/ nested list ex:\n",
    "\n",
    "org = [[0,1,2,3,4],[5,6,7,8,9]]\n",
    "\n",
    "cpy = copy.copy(org)\n",
    "\n",
    "cpy[0][1] = -10\n",
    "\n",
    "print(cpy)\n",
    "print(org)\n",
    "\n",
    "#both change! this is because we've only done a shallow copy and it only makes references to the children of the list...to fix we must create a deep copy"
   ]
  },
  {
   "cell_type": "code",
   "execution_count": 5,
   "metadata": {},
   "outputs": [
    {
     "output_type": "stream",
     "name": "stdout",
     "text": "[[0, -10, 2, 3, 4], [5, 6, 7, 8, 9]]\n[[0, 1, 2, 3, 4], [5, 6, 7, 8, 9]]\n"
    }
   ],
   "source": [
    "#deep copy with nested list\n",
    "\n",
    "org = [[0,1,2,3,4],[5,6,7,8,9]]\n",
    "\n",
    "cpy = copy.deepcopy(org)\n",
    "\n",
    "cpy[0][1] = -10\n",
    "\n",
    "print(cpy)\n",
    "print(org)\n",
    "\n",
    "#orinal stays the same because we used deep copy...this is good for lists dictionaries, tuples or custom objects like classes\n",
    ""
   ]
  },
  {
   "cell_type": "code",
   "execution_count": 6,
   "metadata": {},
   "outputs": [
    {
     "output_type": "stream",
     "name": "stdout",
     "text": "28\n28\n28\n27\n"
    }
   ],
   "source": [
    "\n",
    "import copy\n",
    "\n",
    "class Person:\n",
    "    def __init__(self,name,age):\n",
    "        self.name = name\n",
    "        self.age = age\n",
    "\n",
    "\n",
    "p1 = Person('Alex',27)\n",
    "p2 = p1\n",
    "\n",
    "p2.age=28\n",
    "\n",
    "print(p2.age)\n",
    "print(p1.age)\n",
    "\n",
    "#both changed because we didnt use copy\n",
    "\n",
    "p1 = Person('Alex',27)\n",
    "p2 = copy.copy(p1)\n",
    "\n",
    "p2.age=28\n",
    "\n",
    "print(p2.age)\n",
    "print(p1.age)\n",
    "\n",
    "#only p2 changed because we use a shallow copy\n",
    "\n",
    ""
   ]
  },
  {
   "cell_type": "code",
   "execution_count": 7,
   "metadata": {},
   "outputs": [
    {
     "output_type": "error",
     "ename": "SyntaxError",
     "evalue": "invalid syntax (<ipython-input-7-c3466979ffdb>, line 29)",
     "traceback": [
      "\u001b[0;36m  File \u001b[0;32m\"<ipython-input-7-c3466979ffdb>\"\u001b[0;36m, line \u001b[0;32m29\u001b[0m\n\u001b[0;31m    p1 = Person('Alex',27)\u001b[0m\n\u001b[0m     ^\u001b[0m\n\u001b[0;31mSyntaxError\u001b[0m\u001b[0;31m:\u001b[0m invalid syntax\n"
     ]
    }
   ],
   "source": [
    "\n",
    "import copy\n",
    "\n",
    "class Person:\n",
    "    def __init__(self,name,age):\n",
    "        self.name = name\n",
    "        self.age = age\n",
    "\n",
    "class Company:\n",
    "    def __init__(self, boss, employee):\n",
    "        self.boss = boss\n",
    "        self.employee = employee\n",
    "\n",
    "\n",
    "\n",
    "p1 = Person('Alex',55)\n",
    "p2 = Person('Jimmy',21)\n",
    "\n",
    "company=Company(p1,p2)\n",
    "company_clone = copy.copy(company)\n",
    "\n",
    "company_clone.boss.age = 56\n",
    "\n",
    "\n",
    "print(company_clone.boss.age )\n",
    "print(company.boss.age)\n",
    "\n",
    "#both changed because we didnt use copy\n",
    "\n",
    "p1 = Person('Alex',27)\n",
    "p2 = copy.copy(p1)\n",
    "\n",
    "p2.age=28\n",
    "\n",
    "print(p2.age)\n",
    "print(p1.age)\n",
    "\n",
    "#only p2 changed because we use a shallow copy\n",
    "\n"
   ]
  },
  {
   "cell_type": "code",
   "execution_count": null,
   "metadata": {},
   "outputs": [],
   "source": []
  }
 ]
}
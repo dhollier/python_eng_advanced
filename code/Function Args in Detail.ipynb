{
 "nbformat": 4,
 "nbformat_minor": 2,
 "metadata": {
  "language_info": {
   "name": "python",
   "codemirror_mode": {
    "name": "ipython",
    "version": 3
   },
   "version": "3.7.6-final"
  },
  "orig_nbformat": 2,
  "file_extension": ".py",
  "mimetype": "text/x-python",
  "name": "python",
  "npconvert_exporter": "python",
  "pygments_lexer": "ipython3",
  "version": 3,
  "kernelspec": {
   "name": "python37664bitvenvvenv68b444bbdb9248a4befa50582545e3e5",
   "display_name": "Python 3.7.6 64-bit ('venv': venv)"
  }
 },
 "cells": [
  {
   "cell_type": "code",
   "execution_count": 1,
   "metadata": {},
   "outputs": [],
   "source": [
    "# https://www.youtube.com/watch?v=iSEyb7ehLK0&list=PLqnslRFeH2UqLwzS0AwKDKLrpYBKzLBy2&index=18"
   ]
  },
  {
   "cell_type": "code",
   "execution_count": 4,
   "metadata": {},
   "outputs": [
    {
     "output_type": "display_data",
     "data": {
      "text/plain": "<IPython.core.display.Markdown object>",
      "text/markdown": "\n- The difference between arguements and parameters\n- Positional and keyboard arguements\n- Default Arguements\n- Variable-length arguements (*args and **kwargs)\n- Container unpacking into function arguements\n- Local vs Global argeuments\n- Parameter passing (by value or by reference?)\n"
     },
     "metadata": {}
    }
   ],
   "source": [
    "%%markdown\n",
    "\n",
    "- The difference between arguements and parameters\n",
    "- Positional and keyboard arguements\n",
    "- Default Arguements\n",
    "- Variable-length arguements (*args and **kwargs)\n",
    "- Container unpacking into function arguements\n",
    "- Local vs Global argeuments\n",
    "- Parameter passing (by value or by reference?)\n",
    ""
   ]
  },
  {
   "cell_type": "code",
   "execution_count": null,
   "metadata": {},
   "outputs": [],
   "source": []
  }
 ]
}
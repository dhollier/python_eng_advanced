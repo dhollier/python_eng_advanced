{
 "nbformat": 4,
 "nbformat_minor": 2,
 "metadata": {
  "language_info": {
   "name": "python",
   "codemirror_mode": {
    "name": "ipython",
    "version": 3
   },
   "version": "3.7.6-final"
  },
  "orig_nbformat": 2,
  "file_extension": ".py",
  "mimetype": "text/x-python",
  "name": "python",
  "npconvert_exporter": "python",
  "pygments_lexer": "ipython3",
  "version": 3,
  "kernelspec": {
   "name": "python37664bitvenvvenv68b444bbdb9248a4befa50582545e3e5",
   "display_name": "Python 3.7.6 64-bit ('venv': venv)"
  }
 },
 "cells": [
  {
   "cell_type": "code",
   "execution_count": 1,
   "metadata": {},
   "outputs": [],
   "source": [
    "# https://www.youtube.com/watch?v=iSEyb7ehLK0&list=PLqnslRFeH2UqLwzS0AwKDKLrpYBKzLBy2&index=18\n",
    ""
   ]
  },
  {
   "cell_type": "code",
   "execution_count": 2,
   "metadata": {},
   "outputs": [
    {
     "output_type": "display_data",
     "data": {
      "text/plain": "<IPython.core.display.Markdown object>",
      "text/markdown": "\n- The difference between arguements and parameters\n- Positional and keyword arguements\n- Default Arguements\n- Variable-length arguements (*args and **kwargs)\n- Container unpacking into function arguements\n- Local vs Global argeuments\n- Parameter passing (by value or by reference?)\n"
     },
     "metadata": {}
    }
   ],
   "source": [
    "%%markdown\n",
    "\n",
    "- The difference between arguements and parameters\n",
    "- Positional and keyword arguements\n",
    "- Default Arguements\n",
    "- Variable-length arguements (*args and **kwargs)\n",
    "- Container unpacking into function arguements\n",
    "- Local vs Global argeuments\n",
    "- Parameter passing (by value or by reference?)\n",
    ""
   ]
  },
  {
   "cell_type": "code",
   "execution_count": 3,
   "metadata": {},
   "outputs": [
    {
     "output_type": "stream",
     "name": "stdout",
     "text": "bobby-jean\n"
    }
   ],
   "source": [
    "# - The difference between arguements and parameters\n",
    "\n",
    "# parameters:\n",
    "# are variables that are defined or used within () of a fuctions\n",
    "\n",
    "# argeuments:\n",
    "# values passed to the parameters when calling the function\n",
    "\n",
    "def print_name(name):\n",
    "    print(name)\n",
    "#name above is the parameter\n",
    "\n",
    "\n",
    "print_name(\"bobby-jean\")\n",
    "\n",
    "#bobby-jean is the arguement for the function\n",
    "\n",
    "\n",
    ""
   ]
  },
  {
   "cell_type": "code",
   "execution_count": 4,
   "metadata": {},
   "outputs": [
    {
     "output_type": "stream",
     "name": "stdout",
     "text": "1 2 3\n1 2 3\n"
    }
   ],
   "source": [
    "# - Positional and keyboard arguements\n",
    "\n",
    "def foo (a,b,c):\n",
    "    print(a,b,c)\n",
    "\n",
    "#positional arguements\n",
    "foo(1,2,3)\n",
    "\n",
    "#keyword arguements\n",
    "#order is not important when we used these\n",
    "foo(a=1,b=2,c=3)\n",
    ""
   ]
  },
  {
   "cell_type": "code",
   "execution_count": 5,
   "metadata": {},
   "outputs": [
    {
     "output_type": "stream",
     "name": "stdout",
     "text": "1 1 2 5\n"
    }
   ],
   "source": [
    "# - Default Arguements\n",
    "#default arguements must be at the end of the parameters\n",
    "def foo (a,b,c,d=5):\n",
    "    print(a,b,c,d)\n",
    "\n",
    "foo(a=1,b=1,c=2)"
   ]
  },
  {
   "cell_type": "code",
   "execution_count": 6,
   "metadata": {},
   "outputs": [
    {
     "output_type": "stream",
     "name": "stdout",
     "text": "1 2\n3\n4\n5\nsix 6\nseven 7\n1 2\nsix 6\nseven 7\n1 2\n3\n4\n5\n"
    }
   ],
   "source": [
    "# - Variable-length arguements (*args and **kwargs)\n",
    "\n",
    "\n",
    "def foo(a,b,*args,**kwargs):\n",
    "    print(a,b)\n",
    "    #args are tuples \n",
    "    for arg in args:\n",
    "        print(arg)\n",
    "    #kwargs are dictionaries\n",
    "    for key in kwargs:\n",
    "        print(key,kwargs[key])\n",
    "\n",
    "# * = pass any number of positional arguements to the function\n",
    "\n",
    "# ** = any number of keyword arguements to the function\n",
    "\n",
    "foo(1,2,3,4,5,six=6,seven=7)\n",
    "\n",
    "foo(1,2, six=6,seven=7)\n",
    "\n",
    "foo(1,2,3,4,5)\n",
    ""
   ]
  },
  {
   "cell_type": "code",
   "execution_count": 7,
   "metadata": {},
   "outputs": [
    {
     "output_type": "stream",
     "name": "stdout",
     "text": "1 2 3 4\n"
    }
   ],
   "source": [
    "# Force keyword arguements\n",
    "\n",
    "def foo(a,b,*,c,d):\n",
    "    print(a,b,c,d)\n",
    "\n",
    "foo(1,2,c=3,d=4)\n",
    "\n",
    "#every arguement after the star must be a keyword arguement"
   ]
  },
  {
   "cell_type": "code",
   "execution_count": 14,
   "metadata": {},
   "outputs": [
    {
     "output_type": "stream",
     "name": "stdout",
     "text": "0 1 2\n1 2 1\n"
    }
   ],
   "source": [
    "# - Container unpacking into function arguements\n",
    "\n",
    "def foo(a,b,c):\n",
    "    print(a,b,c)\n",
    "\n",
    "mylist = [0,1,2]\n",
    "\n",
    "foo(*mylist)\n",
    "\n",
    "mydict2 = {'a':1,'b':2,'c':1}\n",
    "\n",
    "foo(**mydict2)"
   ]
  },
  {
   "cell_type": "code",
   "execution_count": 19,
   "metadata": {},
   "outputs": [
    {
     "output_type": "stream",
     "name": "stdout",
     "text": "number inside function 0\n"
    }
   ],
   "source": []
  },
  {
   "cell_type": "code",
   "execution_count": 20,
   "metadata": {},
   "outputs": [
    {
     "output_type": "stream",
     "name": "stdout",
     "text": "number inside function 0\n"
    }
   ],
   "source": [
    "def foo():\n",
    "    global number #declaring this allows us to update the global variable number at set it to 3 otherwise we get an error\n",
    "    x = number\n",
    "    number = 3\n",
    "    print('number inside function',x)\n",
    "\n",
    "number = 0 #global variable\n",
    " \n",
    "foo()"
   ]
  },
  {
   "cell_type": "code",
   "execution_count": 23,
   "metadata": {},
   "outputs": [
    {
     "output_type": "stream",
     "name": "stdout",
     "text": "10\n[1, 2, 3, 4]\n"
    }
   ],
   "source": [
    "# - Parameter passing (by value or by reference?)\n",
    "\n",
    "#call by value or call by reference\n",
    "#python uses call by object\n",
    "#parameters passed in is a reference to an object\n",
    "\n",
    "\n",
    "# mutable objects can be changed within a method \n",
    "# immutable objects can not be changed withhin a method but if they are made inside of an object they can be reassinged\n",
    "\n",
    "def foo(x):\n",
    "    x=5\n",
    "\n",
    "var = 10\n",
    "\n",
    "foo(var)\n",
    "print(var)\n",
    "\n",
    "#still prints ten because var is an integer which is immutable \n",
    "\n",
    "def foo2(a_list):\n",
    "    a_list.append(4)\n",
    "\n",
    "mylist = [1,2,3]\n",
    "\n",
    "foo2(mylist)\n",
    "print(mylist)\n",
    "#this list gets modifed because its mutable, also immutable objects like integers can be changed within a mutable object\n"
   ]
  },
  {
   "cell_type": "code",
   "execution_count": null,
   "metadata": {},
   "outputs": [],
   "source": []
  },
  {
   "cell_type": "code",
   "execution_count": null,
   "metadata": {},
   "outputs": [],
   "source": []
  }
 ]
}
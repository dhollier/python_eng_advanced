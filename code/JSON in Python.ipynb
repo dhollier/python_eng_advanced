{
 "nbformat": 4,
 "nbformat_minor": 2,
 "metadata": {
  "language_info": {
   "name": "python",
   "codemirror_mode": {
    "name": "ipython",
    "version": 3
   },
   "version": "3.7.6-final"
  },
  "orig_nbformat": 2,
  "file_extension": ".py",
  "mimetype": "text/x-python",
  "name": "python",
  "npconvert_exporter": "python",
  "pygments_lexer": "ipython3",
  "version": 3,
  "kernelspec": {
   "name": "python37664bitvenvvenv68b444bbdb9248a4befa50582545e3e5",
   "display_name": "Python 3.7.6 64-bit ('venv': venv)"
  }
 },
 "cells": [
  {
   "cell_type": "code",
   "execution_count": 49,
   "metadata": {},
   "outputs": [],
   "source": [
    "# https://www.youtube.com/watch?v=EtAGd-3arNE&list=PLqnslRFeH2UqLwzS0AwKDKLrpYBKzLBy2&index=11\n",
    "\n",
    "# JSON in Python"
   ]
  },
  {
   "cell_type": "code",
   "execution_count": 50,
   "metadata": {},
   "outputs": [],
   "source": [
    "#create dictionary\n",
    "person = {\"name\": \"Jon\",\"age\":38,\"city\":\"NY\",\"hasChildren\":False,\"titles\":[\"engineer\",\"programmer\"]}\n",
    "\n",
    ""
   ]
  },
  {
   "cell_type": "code",
   "execution_count": 51,
   "metadata": {},
   "outputs": [
    {
     "output_type": "stream",
     "name": "stdout",
     "text": "{\"name\": \"Jon\", \"age\": 38, \"city\": \"NY\", \"hasChildren\": false, \"titles\": [\"engineer\", \"programmer\"]}\n{\n    \"name\": \"Jon\",\n    \"age\": 38,\n    \"city\": \"NY\",\n    \"hasChildren\": false,\n    \"titles\": [\n        \"engineer\",\n        \"programmer\"\n    ]\n}\n{\n    \"age\": 38,\n    \"city\": \"NY\",\n    \"hasChildren\": false,\n    \"name\": \"Jon\",\n    \"titles\": [\n        \"engineer\",\n        \"programmer\"\n    ]\n}\n"
    }
   ],
   "source": [
    "#we want to convert the dictionary above into a json object\n",
    "\n",
    "import json\n",
    "\n",
    "personJSON1 = json.dumps(person)\n",
    "personJSON2 = json.dumps(person, indent=4)\n",
    "personJSON3 = json.dumps(person, indent=4, sort_keys=True)\n",
    "\n",
    "print(personJSON1) #default\n",
    "print(personJSON2) #addes indents to make it look nice\n",
    "print(personJSON3) #keys sorted alphabetically"
   ]
  },
  {
   "cell_type": "code",
   "execution_count": 52,
   "metadata": {},
   "outputs": [
    {
     "output_type": "stream",
     "name": "stdout",
     "text": "~directory already exists\n"
    }
   ],
   "source": [
    "#if we want to write to a file\n",
    "\n",
    "#makes folder skips if exists\n",
    "dirname = '../output/'\n",
    "\n",
    "try:\n",
    "    os.makedirs(dirname)\n",
    "    print(\"~directory created\")\n",
    "except FileExistsError:\n",
    "    print(\"~directory already exists\")\n",
    "\n",
    "\n",
    "#writes dictionary to json file\n",
    "with open(dirname + 'person.json','w') as file:\n",
    "    json.dump(person,file, indent=4)"
   ]
  },
  {
   "cell_type": "code",
   "execution_count": 53,
   "metadata": {},
   "outputs": [
    {
     "output_type": "stream",
     "name": "stdout",
     "text": "{'name': 'Jon', 'age': 38, 'city': 'NY', 'hasChildren': False, 'titles': ['engineer', 'programmer']}\n"
    }
   ],
   "source": [
    "# converting json into dictionary\n",
    "\n",
    "person = json.loads(personJSON)\n",
    "\n",
    "print(person)"
   ]
  },
  {
   "cell_type": "code",
   "execution_count": 54,
   "metadata": {},
   "outputs": [
    {
     "output_type": "stream",
     "name": "stdout",
     "text": "{'name': 'Jon', 'age': 38, 'city': 'NY', 'hasChildren': False, 'titles': ['engineer', 'programmer']}\n"
    }
   ],
   "source": [
    "#convert from json file\n",
    "\n",
    "with open('../output/person.json','r') as file:\n",
    "    person =json.load(file)\n",
    "    print(person)"
   ]
  },
  {
   "cell_type": "code",
   "execution_count": 55,
   "metadata": {},
   "outputs": [
    {
     "output_type": "stream",
     "name": "stdout",
     "text": "{\"name\": \"Max\", \"age\": 27, \"User\": true}\n"
    }
   ],
   "source": [
    "#Encoding custom objects as json\n",
    "\n",
    "class User:\n",
    "        def __init__(self,name,age):\n",
    "            self.name = name\n",
    "            self.age = age\n",
    "\n",
    "user = User('Max',27)\n",
    "\n",
    "def encode_user(o):\n",
    "    if isinstance(o,User):\n",
    "        return {'name':o.name,'age':o.age, o.__class__.__name__:True}\n",
    "    else:\n",
    "        raise TypeError('Object of type User is not JSON serializable')\n",
    "\n",
    "userJSON = json.dumps(user,default=encode_user)\n",
    "print(userJSON)\n",
    "\n",
    ""
   ]
  },
  {
   "cell_type": "code",
   "execution_count": 56,
   "metadata": {},
   "outputs": [
    {
     "output_type": "stream",
     "name": "stdout",
     "text": "{\"name\": \"Max\", \"age\": 27, \"User\": true}\n"
    }
   ],
   "source": [
    "#another option\n",
    "from json import JSONEncoder\n",
    "\n",
    "class UserEncoder(JSONEncoder):\n",
    "\n",
    "    def default(self,o):\n",
    "        if isinstance(o,User):\n",
    "            return {'name':o.name,'age':o.age, o.__class__.__name__:True}\n",
    "        return JSONEncoder.default(self, o)\n",
    "\n",
    "userJSON = json.dumps(user,cls=UserEncoder)\n",
    "print(userJSON)"
   ]
  },
  {
   "cell_type": "code",
   "execution_count": 57,
   "metadata": {},
   "outputs": [
    {
     "output_type": "stream",
     "name": "stdout",
     "text": "{\"name\": \"Max\", \"age\": 27, \"User\": true}\n"
    }
   ],
   "source": [
    "#anotehr option\n",
    "userJSON = UserEncoder().encode(user)\n",
    "print(userJSON)\n",
    ""
   ]
  },
  {
   "cell_type": "code",
   "execution_count": 58,
   "metadata": {},
   "outputs": [
    {
     "output_type": "stream",
     "name": "stdout",
     "text": "<__main__.User object at 0x11faa0e10>\n<class '__main__.User'>\n"
    }
   ],
   "source": [
    "#decode object back\n",
    "\n",
    "# user = json.loads(userJSON)\n",
    "print(user)\n",
    "print(type(user))\n",
    "\n",
    ""
   ]
  },
  {
   "cell_type": "code",
   "execution_count": 60,
   "metadata": {},
   "outputs": [
    {
     "output_type": "stream",
     "name": "stdout",
     "text": "<class '__main__.User'>\nMax 27\n"
    }
   ],
   "source": [
    "def decode_user(d):\n",
    "    if User.__name__ in d:\n",
    "        return User(name = d['name'], age = d['age'])\n",
    "    return d\n",
    "\n",
    "user = json.loads(userJSON,object_hook=decode_user)\n",
    "print(type(user))\n",
    "print(user.name,user.age)"
   ]
  },
  {
   "cell_type": "code",
   "execution_count": null,
   "metadata": {},
   "outputs": [],
   "source": []
  }
 ]
}
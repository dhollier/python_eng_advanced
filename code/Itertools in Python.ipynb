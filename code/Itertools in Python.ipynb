{
 "cells": [
  {
   "cell_type": "code",
   "execution_count": 1,
   "metadata": {
    "ExecuteTime": {
     "end_time": "2020-04-02T19:32:38.227156Z",
     "start_time": "2020-04-02T19:32:38.225132Z"
    }
   },
   "outputs": [],
   "source": [
    "# https://www.youtube.com/watch?v=3ecISAkioPc&list=PLqnslRFeH2UqLwzS0AwKDKLrpYBKzLBy2&index=7\n",
    "\n",
    "# itertools: product, permutations, combinations,accumulate, groupby, and infinite iterators"
   ]
  },
  {
   "cell_type": "code",
   "execution_count": 6,
   "metadata": {
    "ExecuteTime": {
     "end_time": "2020-04-02T19:35:12.085426Z",
     "start_time": "2020-04-02T19:35:12.079686Z"
    }
   },
   "outputs": [
    {
     "name": "stdout",
     "output_type": "stream",
     "text": [
      "[(1, 3), (1, 4), (2, 3), (2, 4)]\n",
      "[(1, 3, 1, 3), (1, 3, 2, 3), (2, 3, 1, 3), (2, 3, 2, 3)]\n"
     ]
    }
   ],
   "source": [
    "from itertools import product\n",
    "\n",
    "a = [1,2]\n",
    "b=[3,4]\n",
    "\n",
    "prod = product(a,b)\n",
    "\n",
    "#makes cartisian product of the iterables\n",
    "print(list(prod)) #must be converted to a list first\n",
    "\n",
    "#we can also define the num of reps\n",
    "b=[3]\n",
    "\n",
    "prod = product(a,b,repeat=2)\n",
    "print(list(prod))"
   ]
  },
  {
   "cell_type": "code",
   "execution_count": 8,
   "metadata": {
    "ExecuteTime": {
     "end_time": "2020-04-02T19:37:08.941512Z",
     "start_time": "2020-04-02T19:37:08.936769Z"
    }
   },
   "outputs": [
    {
     "name": "stdout",
     "output_type": "stream",
     "text": [
      "[(1, 2, 3), (1, 3, 2), (2, 1, 3), (2, 3, 1), (3, 1, 2), (3, 2, 1)]\n",
      "[(1, 2), (1, 3), (2, 1), (2, 3), (3, 1), (3, 2)]\n"
     ]
    }
   ],
   "source": [
    "from itertools import permutations\n",
    "#return all possible orderings of an input\n",
    "\n",
    "a = [1,2,3]\n",
    "\n",
    "perm = permutations(a)\n",
    "\n",
    "print(list(perm))\n",
    "\n",
    "perm = permutations(a,2) #creates shorter permuations by editing length\n",
    "\n",
    "print(list(perm))\n"
   ]
  },
  {
   "cell_type": "code",
   "execution_count": 10,
   "metadata": {
    "ExecuteTime": {
     "end_time": "2020-04-02T19:39:46.510667Z",
     "start_time": "2020-04-02T19:39:46.505870Z"
    }
   },
   "outputs": [
    {
     "name": "stdout",
     "output_type": "stream",
     "text": [
      "[(1, 2), (1, 3), (1, 4), (2, 3), (2, 4), (3, 4)]\n",
      "[(1, 1), (1, 2), (1, 3), (1, 4), (2, 2), (2, 3), (2, 4), (3, 3), (3, 4), (4, 4)]\n"
     ]
    }
   ],
   "source": [
    "from itertools import combinations\n",
    "#return all possible combinations with a specifed length\n",
    "a = [1,2,3,4]\n",
    "\n",
    "comb = combinations(a,2) #no combinations of the same element\n",
    "print(list(comb))\n",
    "\n",
    "from itertools import combinations_with_replacement\n",
    "comb_wr = combinations_with_replacement(a,2)\n",
    "\n",
    "print(list(comb_wr))\n"
   ]
  },
  {
   "cell_type": "code",
   "execution_count": 14,
   "metadata": {
    "ExecuteTime": {
     "end_time": "2020-04-02T19:44:52.929105Z",
     "start_time": "2020-04-02T19:44:52.921902Z"
    }
   },
   "outputs": [
    {
     "name": "stdout",
     "output_type": "stream",
     "text": [
      "[1, 2, 3, 4]\n",
      "[1, 3, 6, 10]\n",
      "********\n",
      "[1, 2, 3, 4]\n",
      "[1, 2, 6, 24]\n",
      "********\n",
      "[1, 2, 5, 3, 9, 4]\n",
      "[1, 2, 5, 5, 9, 9]\n"
     ]
    }
   ],
   "source": [
    "from itertools import accumulate\n",
    "# makes iterator that retunes accumulated sums or any other function\n",
    "a = [1,2,3,4]\n",
    "\n",
    "acc = accumulate(a) #default computes the sum\n",
    "print(a)\n",
    "print(list(acc))#sums the numbers as it goes\n",
    "print('********')\n",
    "import operator\n",
    "\n",
    "acc = accumulate(a,func=operator.mul) # multiply\n",
    "print(a)\n",
    "print(list(acc))#sums the numbers as it goes\n",
    "print('********')\n",
    "a = [1,2,5,3,9,4]\n",
    "\n",
    "acc = accumulate(a,func=max) # returns the max as it goes\n",
    "print(a)\n",
    "print(list(acc))#sums the numbers as it goes\n"
   ]
  },
  {
   "cell_type": "code",
   "execution_count": 19,
   "metadata": {
    "ExecuteTime": {
     "end_time": "2020-04-02T19:48:02.441303Z",
     "start_time": "2020-04-02T19:48:02.436280Z"
    }
   },
   "outputs": [
    {
     "name": "stdout",
     "output_type": "stream",
     "text": [
      "<itertools.groupby object at 0x10de15e90>\n",
      "True [1, 2]\n",
      "False [3, 4]\n"
     ]
    }
   ],
   "source": [
    "from itertools import groupby\n",
    "#makes iteratior that retunrs keys and groups from an iterable\n",
    "\n",
    "def smaller_than_3(x):\n",
    "    return x < 3\n",
    "\n",
    "a=[1,2,3,4]\n",
    "\n",
    "group_obj = groupby(a,key=smaller_than_3)\n",
    "\n",
    "print(group_obj)\n",
    "\n",
    "for key,value in group_obj:\n",
    "    print(key,list(value))\n",
    "    \n",
    "#groups 1 and 2 together because they are smaller than 3 and 3 and 4 are grouped to gether because they are larger than 3 \n",
    "#the keys are True and False"
   ]
  },
  {
   "cell_type": "code",
   "execution_count": 23,
   "metadata": {
    "ExecuteTime": {
     "end_time": "2020-04-02T19:56:42.768912Z",
     "start_time": "2020-04-02T19:56:42.764002Z"
    }
   },
   "outputs": [
    {
     "name": "stdout",
     "output_type": "stream",
     "text": [
      "22 [{'name': 'Tim', 'age': 22}, {'name': 'Sim', 'age': 22}]\n",
      "42 [{'name': 'Dim', 'age': 42}]\n",
      "62 [{'name': 'Him', 'age': 62}]\n"
     ]
    }
   ],
   "source": [
    "persons = [{'name':'Tim', 'age': 22},{'name':'Sim', 'age': 22},{'name':'Dim', 'age': 42},{'name':'Him', 'age': 62}]\n",
    "\n",
    "group_obj = groupby(persons,key=lambda x: x['age'])\n",
    "\n",
    "for key,value in group_obj:\n",
    "    print(key,list(value))"
   ]
  },
  {
   "cell_type": "code",
   "execution_count": 27,
   "metadata": {
    "ExecuteTime": {
     "end_time": "2020-04-02T20:00:55.874644Z",
     "start_time": "2020-04-02T20:00:55.870913Z"
    }
   },
   "outputs": [
    {
     "name": "stdout",
     "output_type": "stream",
     "text": [
      "10\n",
      "11\n",
      "12\n",
      "13\n",
      "14\n",
      "15\n"
     ]
    }
   ],
   "source": [
    "from itertools import count, cycle, repeat\n",
    "\n",
    "for i in count(10): #creates infinte loop that starts at 10 and counts forward\n",
    "    print(i)\n",
    "    if i ==15:\n",
    "        break"
   ]
  },
  {
   "cell_type": "code",
   "execution_count": 28,
   "metadata": {
    "ExecuteTime": {
     "end_time": "2020-04-02T20:01:15.613365Z",
     "start_time": "2020-04-02T20:01:15.610713Z"
    }
   },
   "outputs": [],
   "source": [
    "a = [1,2,3]\n",
    "\n",
    "#for i in cycle(a): #creates infinte loop that cycles through 1,2,3\n",
    "   # print(i)\n",
    "    if i ==15:\n",
    "        break"
   ]
  },
  {
   "cell_type": "code",
   "execution_count": 29,
   "metadata": {
    "ExecuteTime": {
     "end_time": "2020-04-02T20:02:46.240365Z",
     "start_time": "2020-04-02T20:02:46.236409Z"
    }
   },
   "outputs": [
    {
     "name": "stdout",
     "output_type": "stream",
     "text": [
      "1\n",
      "1\n",
      "1\n",
      "1\n"
     ]
    }
   ],
   "source": [
    "a = [1,2,3]\n",
    "\n",
    "for i in repeat(1,4): #creates infinte loop that repeats the value x times \n",
    "    print(i)\n",
    "    if i ==15:\n",
    "        break"
   ]
  },
  {
   "cell_type": "code",
   "execution_count": null,
   "metadata": {},
   "outputs": [],
   "source": []
  }
 ],
 "metadata": {
  "kernelspec": {
   "display_name": "venv",
   "language": "python",
   "name": "venv"
  },
  "language_info": {
   "codemirror_mode": {
    "name": "ipython",
    "version": 3
   },
   "file_extension": ".py",
   "mimetype": "text/x-python",
   "name": "python",
   "nbconvert_exporter": "python",
   "pygments_lexer": "ipython3",
   "version": "3.7.6"
  },
  "toc": {
   "base_numbering": 1,
   "nav_menu": {},
   "number_sections": true,
   "sideBar": true,
   "skip_h1_title": false,
   "title_cell": "Table of Contents",
   "title_sidebar": "Contents",
   "toc_cell": false,
   "toc_position": {},
   "toc_section_display": true,
   "toc_window_display": false
  }
 },
 "nbformat": 4,
 "nbformat_minor": 2
}

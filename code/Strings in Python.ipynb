{
 "cells": [
  {
   "cell_type": "code",
   "execution_count": 1,
   "metadata": {
    "ExecuteTime": {
     "end_time": "2020-03-24T21:34:52.406853Z",
     "start_time": "2020-03-24T21:34:52.403525Z"
    }
   },
   "outputs": [],
   "source": [
    "#https://www.youtube.com/watch?v=e6ivlABOYRI&list=PLqnslRFeH2UqLwzS0AwKDKLrpYBKzLBy2&index=5\n",
    "\n",
    "# Strings: ordered, immutable, text representation"
   ]
  },
  {
   "cell_type": "code",
   "execution_count": 2,
   "metadata": {
    "ExecuteTime": {
     "end_time": "2020-03-24T21:36:43.211422Z",
     "start_time": "2020-03-24T21:36:43.202001Z"
    }
   },
   "outputs": [
    {
     "data": {
      "text/plain": [
       "'Hello World'"
      ]
     },
     "execution_count": 2,
     "metadata": {},
     "output_type": "execute_result"
    }
   ],
   "source": [
    "my_string ='Hello World'\n",
    "my_string"
   ]
  },
  {
   "cell_type": "code",
   "execution_count": 3,
   "metadata": {
    "ExecuteTime": {
     "end_time": "2020-03-24T21:38:24.508198Z",
     "start_time": "2020-03-24T21:38:24.503010Z"
    }
   },
   "outputs": [
    {
     "data": {
      "text/plain": [
       "'Hello\\n\\nWorld'"
      ]
     },
     "execution_count": 3,
     "metadata": {},
     "output_type": "execute_result"
    }
   ],
   "source": [
    "my_string = \"\"\"Hello\n",
    "\n",
    "World\"\"\"\n",
    "my_string"
   ]
  },
  {
   "cell_type": "code",
   "execution_count": 6,
   "metadata": {
    "ExecuteTime": {
     "end_time": "2020-03-24T21:39:09.687819Z",
     "start_time": "2020-03-24T21:39:09.683457Z"
    }
   },
   "outputs": [
    {
     "data": {
      "text/plain": [
       "'d'"
      ]
     },
     "execution_count": 6,
     "metadata": {},
     "output_type": "execute_result"
    }
   ],
   "source": [
    "my_string ='Hello World'\n",
    "char = my_string[-1]\n",
    "char"
   ]
  },
  {
   "cell_type": "code",
   "execution_count": 10,
   "metadata": {
    "ExecuteTime": {
     "end_time": "2020-03-24T21:44:07.449932Z",
     "start_time": "2020-03-24T21:44:07.446440Z"
    }
   },
   "outputs": [
    {
     "data": {
      "text/plain": [
       "'dlroW olleH'"
      ]
     },
     "execution_count": 10,
     "metadata": {},
     "output_type": "execute_result"
    }
   ],
   "source": [
    "substring = my_string[::-1]\n",
    "substring"
   ]
  },
  {
   "cell_type": "code",
   "execution_count": 13,
   "metadata": {
    "ExecuteTime": {
     "end_time": "2020-03-24T21:45:08.952229Z",
     "start_time": "2020-03-24T21:45:08.947538Z"
    }
   },
   "outputs": [
    {
     "data": {
      "text/plain": [
       "'Hello, Billy'"
      ]
     },
     "execution_count": 13,
     "metadata": {},
     "output_type": "execute_result"
    }
   ],
   "source": [
    "greeting ='Hello,'\n",
    "name = 'Billy'\n",
    "sentence = greeting + ' ' + name\n",
    "\n",
    "sentence"
   ]
  },
  {
   "cell_type": "code",
   "execution_count": 14,
   "metadata": {
    "ExecuteTime": {
     "end_time": "2020-03-24T21:45:33.382623Z",
     "start_time": "2020-03-24T21:45:33.379059Z"
    }
   },
   "outputs": [
    {
     "name": "stdout",
     "output_type": "stream",
     "text": [
      "H\n",
      "e\n",
      "l\n",
      "l\n",
      "o\n",
      ",\n",
      " \n",
      "B\n",
      "i\n",
      "l\n",
      "l\n",
      "y\n"
     ]
    }
   ],
   "source": [
    "for i in sentence:\n",
    "    print (i)"
   ]
  },
  {
   "cell_type": "code",
   "execution_count": 15,
   "metadata": {
    "ExecuteTime": {
     "end_time": "2020-03-24T21:46:32.365430Z",
     "start_time": "2020-03-24T21:46:32.362189Z"
    }
   },
   "outputs": [
    {
     "name": "stdout",
     "output_type": "stream",
     "text": [
      "yes\n"
     ]
    }
   ],
   "source": [
    "if 'e' in sentence:\n",
    "    print('yes')\n",
    "else:\n",
    "    print('no')"
   ]
  },
  {
   "cell_type": "code",
   "execution_count": 16,
   "metadata": {
    "ExecuteTime": {
     "end_time": "2020-03-24T21:47:01.085687Z",
     "start_time": "2020-03-24T21:47:01.082101Z"
    }
   },
   "outputs": [
    {
     "name": "stdout",
     "output_type": "stream",
     "text": [
      "       Hello World.    \n"
     ]
    }
   ],
   "source": [
    "mystring = '       Hello World.    '\n",
    "print(mystring)"
   ]
  },
  {
   "cell_type": "code",
   "execution_count": 21,
   "metadata": {
    "ExecuteTime": {
     "end_time": "2020-03-24T21:49:33.069115Z",
     "start_time": "2020-03-24T21:49:33.065233Z"
    }
   },
   "outputs": [
    {
     "name": "stdout",
     "output_type": "stream",
     "text": [
      "HELLO WORLD.\n",
      "hello world.\n",
      "True\n"
     ]
    }
   ],
   "source": [
    "mystring = mystring.strip()\n",
    "print(mystring.upper())\n",
    "print(mystring.lower())\n",
    "print(mystring.startswith('H')) #false becaues spaces"
   ]
  },
  {
   "cell_type": "code",
   "execution_count": 27,
   "metadata": {
    "ExecuteTime": {
     "end_time": "2020-03-24T21:50:58.152547Z",
     "start_time": "2020-03-24T21:50:58.148179Z"
    }
   },
   "outputs": [
    {
     "name": "stdout",
     "output_type": "stream",
     "text": [
      "0\n",
      "Hello Universe.\n"
     ]
    }
   ],
   "source": [
    "print(mystring.find('He'))\n",
    "print(mystring.replace('World','Universe'))"
   ]
  },
  {
   "cell_type": "code",
   "execution_count": 31,
   "metadata": {
    "ExecuteTime": {
     "end_time": "2020-03-24T21:53:34.958061Z",
     "start_time": "2020-03-24T21:53:34.952300Z"
    }
   },
   "outputs": [
    {
     "name": "stdout",
     "output_type": "stream",
     "text": [
      "['how', 'are', 'you', 'doing']\n"
     ]
    },
    {
     "data": {
      "text/plain": [
       "'how are you doing'"
      ]
     },
     "execution_count": 31,
     "metadata": {},
     "output_type": "execute_result"
    }
   ],
   "source": [
    "mystring = 'how|are|you|doing'\n",
    "mylist = mystring.split(\"|\") #default is a space, and will split the string on a space\n",
    "print(mylist)\n",
    "\n",
    "#convert back into string\n",
    "\n",
    "newstring = ' '.join(mylist) #puts the space in the string between the elements of the list\n",
    "newstring"
   ]
  },
  {
   "cell_type": "code",
   "execution_count": 44,
   "metadata": {
    "ExecuteTime": {
     "end_time": "2020-03-24T22:00:38.158530Z",
     "start_time": "2020-03-24T22:00:37.967530Z"
    }
   },
   "outputs": [
    {
     "name": "stdout",
     "output_type": "stream",
     "text": [
      "first way:  0.17358864900006665\n",
      "second way: 0.00649442300004921\n"
     ]
    }
   ],
   "source": [
    "from timeit import default_timer as timer\n",
    "\n",
    "\n",
    "mylist = ['a'] * 1000000\n",
    "\n",
    "#bad code\n",
    "start=timer()\n",
    "mystring= ''\n",
    "for i in mylist:\n",
    "    mystring +=i\n",
    "stop=timer()\n",
    "print(\"first way: \",stop-start)\n",
    "\n",
    "\n",
    "#good python code\n",
    "start=timer()\n",
    "mystring = ''.join(mylist)\n",
    "stop=timer()\n",
    "print(\"second way:\", stop-start)\n",
    "\n"
   ]
  },
  {
   "cell_type": "code",
   "execution_count": 50,
   "metadata": {
    "ExecuteTime": {
     "end_time": "2020-03-24T22:03:41.468710Z",
     "start_time": "2020-03-24T22:03:41.461906Z"
    }
   },
   "outputs": [
    {
     "name": "stdout",
     "output_type": "stream",
     "text": [
      "the variable is Tom\n",
      "the variable is 3\n",
      "the variable is 3.500000\n",
      "the variable is 3.50\n"
     ]
    }
   ],
   "source": [
    "#formatting strings\n",
    "\n",
    "#old way %,.format(), f-Strings\n",
    "\n",
    "var = \"Tom\"\n",
    "\n",
    "mystring = \"the variable is %s\"% var \n",
    "\n",
    "print(mystring)\n",
    "\n",
    "\n",
    "var = 3\n",
    "\n",
    "mystring = \"the variable is %d\"% var \n",
    "\n",
    "print(mystring)\n",
    "\n",
    "\n",
    "var = 3.5\n",
    "\n",
    "mystring = \"the variable is %f\"% var \n",
    "\n",
    "print(mystring)\n",
    "\n",
    "\n",
    "\n",
    "var = 3.5\n",
    "\n",
    "mystring = \"the variable is %.2f\"% var \n",
    "\n",
    "print(mystring)\n",
    "\n"
   ]
  },
  {
   "cell_type": "code",
   "execution_count": 53,
   "metadata": {
    "ExecuteTime": {
     "end_time": "2020-03-24T22:04:48.634988Z",
     "start_time": "2020-03-24T22:04:48.629127Z"
    }
   },
   "outputs": [
    {
     "name": "stdout",
     "output_type": "stream",
     "text": [
      "the variable is 3.5\n",
      "the variable is 3.50\n",
      "the variable is 3.50 and 6 \n"
     ]
    }
   ],
   "source": [
    "#new format style\n",
    "\n",
    "\n",
    "var = 3.5\n",
    "\n",
    "mystring = \"the variable is {}\".format(var)\n",
    "\n",
    "print(mystring)\n",
    "\n",
    "var = 3.5\n",
    "\n",
    "mystring = \"the variable is {:.2f}\".format(var)\n",
    "\n",
    "print(mystring)\n",
    "\n",
    "\n",
    "var = 3.5\n",
    "var2 = 6\n",
    "\n",
    "mystring = \"the variable is {:.2f} and {} \".format(var, var2)\n",
    "\n",
    "print(mystring)\n"
   ]
  },
  {
   "cell_type": "code",
   "execution_count": 55,
   "metadata": {
    "ExecuteTime": {
     "end_time": "2020-03-24T22:06:56.182980Z",
     "start_time": "2020-03-24T22:06:56.178951Z"
    }
   },
   "outputs": [
    {
     "name": "stdout",
     "output_type": "stream",
     "text": [
      "the variable is 7.0 and 6\n"
     ]
    }
   ],
   "source": [
    "#f strings prefered format\n",
    "# ***************\n",
    "\n",
    "var = 3.5\n",
    "var2 = 6\n",
    "\n",
    "mystring = f\"the variable is {var * 2} and {var2}\" #valuates at runtime so we can put operations here\n",
    "\n",
    "print(mystring)\n"
   ]
  },
  {
   "cell_type": "code",
   "execution_count": null,
   "metadata": {},
   "outputs": [],
   "source": []
  }
 ],
 "metadata": {
  "kernelspec": {
   "display_name": "venv",
   "language": "python",
   "name": "venv"
  },
  "language_info": {
   "codemirror_mode": {
    "name": "ipython",
    "version": 3
   },
   "file_extension": ".py",
   "mimetype": "text/x-python",
   "name": "python",
   "nbconvert_exporter": "python",
   "pygments_lexer": "ipython3",
   "version": "3.7.6"
  },
  "toc": {
   "base_numbering": 1,
   "nav_menu": {},
   "number_sections": true,
   "sideBar": true,
   "skip_h1_title": false,
   "title_cell": "Table of Contents",
   "title_sidebar": "Contents",
   "toc_cell": false,
   "toc_position": {},
   "toc_section_display": true,
   "toc_window_display": false
  }
 },
 "nbformat": 4,
 "nbformat_minor": 2
}

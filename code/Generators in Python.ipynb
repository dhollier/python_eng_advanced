{
 "nbformat": 4,
 "nbformat_minor": 2,
 "metadata": {
  "language_info": {
   "name": "python",
   "codemirror_mode": {
    "name": "ipython",
    "version": 3
   },
   "version": "3.7.6-final"
  },
  "orig_nbformat": 2,
  "file_extension": ".py",
  "mimetype": "text/x-python",
  "name": "python",
  "npconvert_exporter": "python",
  "pygments_lexer": "ipython3",
  "version": 3,
  "kernelspec": {
   "name": "python37664bitvenvvenv68b444bbdb9248a4befa50582545e3e5",
   "display_name": "Python 3.7.6 64-bit ('venv': venv)"
  }
 },
 "cells": [
  {
   "cell_type": "code",
   "execution_count": 1,
   "metadata": {},
   "outputs": [],
   "source": [
    "# https://youtu.be/4CxB2V2lERs?list=PLqnslRFeH2UqLwzS0AwKDKLrpYBKzLBy2\n",
    "\n",
    "#functions that return an object that can be iterated over\n",
    "#generate items laziliy (only one at a time and only when you ask for it)\n",
    "#makes them more memory efficent than regular sequencers for large data"
   ]
  },
  {
   "cell_type": "code",
   "execution_count": 2,
   "metadata": {},
   "outputs": [
    {
     "output_type": "stream",
     "name": "stdout",
     "text": "<generator object mygenerator at 0x10fb1ea50>\n1\n2\n3\n"
    }
   ],
   "source": [
    "def mygenerator():\n",
    "    yield 1 #we use yield instead of return and multiple yeilds can be used in a function\n",
    "    yield 2\n",
    "    yield 3\n",
    "\n",
    "g = mygenerator()\n",
    "\n",
    "print(g)\n",
    "\n",
    "for i in g:\n",
    "    print(i)"
   ]
  },
  {
   "cell_type": "code",
   "execution_count": null,
   "metadata": {},
   "outputs": [],
   "source": []
  }
 ]
}
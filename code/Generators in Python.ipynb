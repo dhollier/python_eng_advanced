{
 "nbformat": 4,
 "nbformat_minor": 2,
 "metadata": {
  "language_info": {
   "name": "python",
   "codemirror_mode": {
    "name": "ipython",
    "version": 3
   },
   "version": "3.7.6-final"
  },
  "orig_nbformat": 2,
  "file_extension": ".py",
  "mimetype": "text/x-python",
  "name": "python",
  "npconvert_exporter": "python",
  "pygments_lexer": "ipython3",
  "version": 3,
  "kernelspec": {
   "name": "python37664bitvenvvenv68b444bbdb9248a4befa50582545e3e5",
   "display_name": "Python 3.7.6 64-bit ('venv': venv)"
  }
 },
 "cells": [
  {
   "cell_type": "code",
   "execution_count": 1,
   "metadata": {},
   "outputs": [],
   "source": [
    "# https://youtu.be/4CxB2V2lERs?list=PLqnslRFeH2UqLwzS0AwKDKLrpYBKzLBy2\n",
    "\n",
    "#functions that return an object that can be iterated over\n",
    "#generate items laziliy (only one at a time and only when you ask for it)\n",
    "#makes them more memory efficent than regular sequencers for large data"
   ]
  },
  {
   "cell_type": "code",
   "execution_count": 2,
   "metadata": {},
   "outputs": [
    {
     "output_type": "stream",
     "name": "stdout",
     "text": "<generator object mygenerator at 0x10fb1ea50>\n1\n2\n3\n"
    }
   ],
   "source": [
    "def mygenerator():\n",
    "    yield 1 #we use yield instead of return and multiple yeilds can be used in a function\n",
    "    yield 2\n",
    "    yield 3\n",
    "\n",
    "g = mygenerator()\n",
    "\n",
    "print(g)\n",
    "\n",
    "for i in g:\n",
    "    print(i)"
   ]
  },
  {
   "cell_type": "code",
   "execution_count": 9,
   "metadata": {},
   "outputs": [
    {
     "output_type": "stream",
     "name": "stdout",
     "text": "starting\n4\n3\n2\n1\n"
    }
   ],
   "source": [
    "def countdown(num) :\n",
    "    print('starting')\n",
    "    while num > 0:\n",
    "        yield num\n",
    "        num -= 1\n",
    "\n",
    "a = countdown(4)\n",
    "\n",
    "value = next(a)\n",
    "\n",
    "print(value)\n",
    "print(next(a))\n",
    "print(next(a))\n",
    "print(next(a))\n",
    ""
   ]
  },
  {
   "cell_type": "code",
   "execution_count": 14,
   "metadata": {},
   "outputs": [
    {
     "output_type": "stream",
     "name": "stdout",
     "text": "[0, 1, 2, 3, 4, 5, 6, 7, 8, 9]\n45\n45\n"
    }
   ],
   "source": [
    "#below shows using a list vs using a generator\n",
    "\n",
    "def firstn(n):\n",
    "    nums = []\n",
    "    num = 0\n",
    "    while num < n :\n",
    "        nums.append(num)\n",
    "        num  += 1\n",
    "    return nums\n",
    "\n",
    "mylist = firstn(10)\n",
    "print(mylist)\n",
    "\n",
    "print(sum(mylist))\n",
    "\n",
    "def firstn_gen(n):\n",
    "    num = 0\n",
    "    while num < n :\n",
    "        yield num\n",
    "        num += 1\n",
    "\n",
    "print(sum(firstn_gen(10)))"
   ]
  },
  {
   "cell_type": "code",
   "execution_count": 15,
   "metadata": {},
   "outputs": [
    {
     "output_type": "stream",
     "name": "stdout",
     "text": "8697472\n128\n"
    }
   ],
   "source": [
    "#generators are much more memory efficent\n",
    "import sys\n",
    "print(sys.getsizeof(firstn(1000000)))\n",
    "print(sys.getsizeof(firstn_gen(1000000)))"
   ]
  },
  {
   "cell_type": "code",
   "execution_count": 18,
   "metadata": {},
   "outputs": [
    {
     "output_type": "stream",
     "name": "stdout",
     "text": "0\n1\n1\n2\n3\n5\n8\n13\n21\n"
    }
   ],
   "source": [
    "def fibbo(limit):\n",
    "    a,b = 0,1\n",
    "    while a < limit :\n",
    "        yield a\n",
    "        a,b = b, a + b\n",
    "\n",
    "f = fibbo(30)\n",
    "\n",
    "for i in f :\n",
    "    print(i)"
   ]
  },
  {
   "cell_type": "code",
   "execution_count": 26,
   "metadata": {},
   "outputs": [
    {
     "output_type": "stream",
     "name": "stdout",
     "text": "0\n2\n4\n6\n8\n[0, 2, 4, 6, 8]\n[]\n"
    }
   ],
   "source": [
    "#generator expressions\n",
    "#written like list comprehenios but with () instead of []\n",
    "\n",
    "mygenerator = (i for i in range(10) if i % 2 == 0)\n",
    "#puts all the even elements from 0 to 9 in the generator object\n",
    "\n",
    "for i in mygenerator:\n",
    "    print(i)\n",
    "\n",
    "# list comp example \n",
    "\n",
    "mylist = [i for i in range(10) if i % 2 == 0]\n",
    "\n",
    "print(mylist)\n",
    "\n",
    "# we can convert the generator object to a list \n",
    "\n",
    "print(list(mygenerator))\n",
    "\n"
   ]
  },
  {
   "cell_type": "code",
   "execution_count": null,
   "metadata": {},
   "outputs": [],
   "source": []
  }
 ]
}
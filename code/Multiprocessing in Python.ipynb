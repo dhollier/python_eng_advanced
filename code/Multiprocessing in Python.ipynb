{
 "nbformat": 4,
 "nbformat_minor": 2,
 "metadata": {
  "language_info": {
   "name": "python",
   "codemirror_mode": {
    "name": "ipython",
    "version": 3
   },
   "version": "3.7.6-final"
  },
  "orig_nbformat": 2,
  "file_extension": ".py",
  "mimetype": "text/x-python",
  "name": "python",
  "npconvert_exporter": "python",
  "pygments_lexer": "ipython3",
  "version": 3,
  "kernelspec": {
   "name": "python37664bitvenvvenv68b444bbdb9248a4befa50582545e3e5",
   "display_name": "Python 3.7.6 64-bit ('venv': venv)"
  }
 },
 "cells": [
  {
   "cell_type": "code",
   "execution_count": 1,
   "metadata": {},
   "outputs": [],
   "source": [
    "# https://www.youtube.com/playlist?list=PLqnslRFeH2UqLwzS0AwKDKLrpYBKzLBy2\n",
    "\n",
    "# multiprocessing \n",
    ""
   ]
  },
  {
   "cell_type": "code",
   "execution_count": 3,
   "metadata": {},
   "outputs": [],
   "source": [
    "from multiprocessing import Process, Value, Array\n",
    "import os\n",
    "\n",
    "def square_numbers():\n",
    "    for i in range(1000):\n",
    "        i + i\n",
    "\n",
    "if __name__ == \"__main__\":\n",
    "    processes = []\n",
    "    num_processes = os.cpu_count()\n",
    "\n",
    "    #create processes and asing a function to each process\n",
    "    for i in range(num_processes):\n",
    "        process = Process(target=square_numbers)\n",
    "        processes.append(process)\n",
    "\n",
    "    #start all processes\n",
    "    for process in processes:\n",
    "        process.start()\n",
    "\n",
    "    #wait for all processess to finish\n",
    "    #block pain program until processes are finished\n",
    "    for process in processes:\n",
    "            process.join()\n",
    "\n",
    "\n",
    "\n",
    "\n",
    "    \n",
    ""
   ]
  },
  {
   "cell_type": "code",
   "execution_count": 9,
   "metadata": {},
   "outputs": [
    {
     "output_type": "stream",
     "name": "stdout",
     "text": "Number at start is  0\nnumber at end is 200\n"
    }
   ],
   "source": [
    "#processes dont share memory so they need special memory processes to share data\n",
    "# we can do this with value and array\n",
    "\n",
    "# VALUE ex\n",
    "\n",
    "from multiprocessing import Process, Value, Array, Lock\n",
    "import time\n",
    "import os\n",
    "\n",
    "def square_numbers():\n",
    "    for i in range(1000):\n",
    "        i + i\n",
    "\n",
    "def add_100(number,lock):\n",
    "    with lock:\n",
    "        for i in range(100):\n",
    "            time.sleep(0.01)\n",
    "            number.value += 1\n",
    "\n",
    "\n",
    "if __name__ == \"__main__\":\n",
    "   lock=Lock()\n",
    "   shared_number = Value('i',0)\n",
    "   print('Number at start is ', shared_number.value)\n",
    "\n",
    "   p1 = Process(target=add_100,args=(shared_number,lock))\n",
    "   p2 = Process(target=add_100,args=(shared_number,lock))\n",
    "\n",
    "   p1.start()\n",
    "   p2.start()\n",
    "\n",
    "   p1.join()\n",
    "   p2.join()\n",
    "\n",
    "   print('number at end is', shared_number.value)"
   ]
  },
  {
   "cell_type": "code",
   "execution_count": 15,
   "metadata": {},
   "outputs": [
    {
     "output_type": "stream",
     "name": "stdout",
     "text": "Array at start is  [0.0, 100.0, 200.0]\nArray at end is [200.0, 300.0, 400.0]\n"
    }
   ],
   "source": [
    "#processes dont share memory so they need special memory processes to share data\n",
    "# we can do this with value and array and queue\n",
    "\n",
    "# ARRAY EX\n",
    "\n",
    "from multiprocessing import Process, Value, Array, Lock\n",
    "import time\n",
    "import os\n",
    "\n",
    "def square_numbers():\n",
    "    for i in range(1000):\n",
    "        i + i\n",
    "\n",
    "def add_100(numbers,lock):\n",
    "    \n",
    "    with lock:\n",
    "        for i in range(100):\n",
    "            time.sleep(0.01)\n",
    "            for j in range(len(numbers)):\n",
    "                numbers[j] +=1\n",
    "\n",
    "\n",
    "if __name__ == \"__main__\":\n",
    "   lock=Lock()\n",
    "   shared_array = Array('d',[0.0,100.0,200.0])\n",
    "   print('Array at start is ', shared_array[:])\n",
    "\n",
    "   p1 = Process(target=add_100,args=(shared_array,lock))\n",
    "   p2 = Process(target=add_100,args=(shared_array,lock))\n",
    "\n",
    "   p1.start()\n",
    "   p2.start()\n",
    "\n",
    "   p1.join()\n",
    "   p2.join()\n",
    "\n",
    "   print('Array at end is', shared_array[:])"
   ]
  },
  {
   "cell_type": "code",
   "execution_count": 3,
   "metadata": {},
   "outputs": [
    {
     "output_type": "stream",
     "name": "stdout",
     "text": "1\n4\n9\n16\n25\n-1\n-2\n-3\n-4\n-5\n"
    }
   ],
   "source": [
    "#processes dont share memory so they need special memory processes to share data\n",
    "# we can do this with value and array and queue\n",
    "\n",
    "# QUEUE EX\n",
    "\n",
    "from multiprocessing import Process, Value, Array, Lock, Queue\n",
    "import time\n",
    "import os\n",
    "\n",
    "def square(numbers,queue):\n",
    "    for i in numbers:\n",
    "        queue.put(i * i)\n",
    "\n",
    "def make_negative(numbers,queue):\n",
    "    for i in numbers:\n",
    "        queue.put(i * -1)\n",
    "\n",
    "if __name__ == \"__main__\":\n",
    "  numbers = range(1,6)\n",
    "  q = Queue()\n",
    "\n",
    "  p1 = Process(target=square,args=(numbers,q))\n",
    "  p2 = Process(target=make_negative,args=(numbers,q))\n",
    "\n",
    "  p1.start()\n",
    "  p2.start()\n",
    "\n",
    "  p1.join()\n",
    "  p2.join()\n",
    "\n",
    "  while not q.empty():\n",
    "      print(q.get()) #removes item form the queue and prints\n",
    "\n"
   ]
  },
  {
   "cell_type": "code",
   "execution_count": 6,
   "metadata": {},
   "outputs": [
    {
     "output_type": "stream",
     "name": "stdout",
     "text": "[0, 1, 8, 27, 64, 125, 216, 343, 512, 729]\n"
    }
   ],
   "source": [
    "# Proces Pool used to manage multiple processes\n",
    "# can manage the available process for you and split the data into chucks to be processed\n",
    "\n",
    "#by default it will create as many proccesses as you have cores on the machine and split the iterable data into equal chunks. \n",
    "#Similar to Future package in R\n",
    "\n",
    "\n",
    "from multiprocessing import Pool\n",
    "\n",
    "\n",
    "def cube(number):\n",
    "    return number * number * number\n",
    "\n",
    "\n",
    "if __name__ == \"__main__\":\n",
    "\n",
    "    numbers = range(10)\n",
    "\n",
    "    pool = Pool()\n",
    "\n",
    "    #4 important methods to know:\n",
    "    #map, apply, join, close\n",
    "\n",
    "    result = pool.map(cube,numbers)\n",
    "    pool.close() #shuts down pool\n",
    "    pool.join()  #waits for pool processes to finish and then collects results\n",
    "    \n",
    "    print(result)\n",
    "\n",
    "\n",
    ""
   ]
  },
  {
   "cell_type": "code",
   "execution_count": 12,
   "metadata": {},
   "outputs": [
    {
     "output_type": "stream",
     "name": "stdout",
     "text": "8\n"
    }
   ],
   "source": [
    "from multiprocessing import Pool\n",
    "\n",
    "\n",
    "def cube(number):\n",
    "    return number * number * number\n",
    "\n",
    "\n",
    "if __name__ == \"__main__\":\n",
    "\n",
    "    numbers = range(10)\n",
    "\n",
    "    pool = Pool()\n",
    "\n",
    "    #4 important methods to know:\n",
    "    #map, apply, join, close\n",
    "\n",
    "    result = pool.apply(cube,[numbers[2]]) \n",
    "\n",
    "    pool.close() #shuts down pool\n",
    "    pool.join()  #waits for pool processes to finish and then collects results\n",
    "    \n",
    "    print(result)"
   ]
  },
  {
   "cell_type": "code",
   "execution_count": null,
   "metadata": {},
   "outputs": [],
   "source": []
  }
 ]
}
{
 "cells": [
  {
   "cell_type": "code",
   "execution_count": 1,
   "metadata": {},
   "outputs": [],
   "source": [
    "# https://www.youtube.com/watch?v=Kes8YRV73Io&list=PLqnslRFeH2UqLwzS0AwKDKLrpYBKzLBy2&index=2\n",
    "\n",
    "#Tuple: ordered, immutable, allows duplicate elements"
   ]
  },
  {
   "cell_type": "code",
   "execution_count": 3,
   "metadata": {},
   "outputs": [
    {
     "name": "stdout",
     "output_type": "stream",
     "text": [
      "<class 'tuple'>\n",
      "('Max', 28, 'Boston')\n"
     ]
    }
   ],
   "source": [
    "mytuple = ('Max',28,'Boston')\n",
    "mytuple_noparen = 'Max',28,'Boston'\n",
    "\n",
    "print(type(mytuple))\n",
    "print(mytuple_noparen)"
   ]
  },
  {
   "cell_type": "code",
   "execution_count": 5,
   "metadata": {},
   "outputs": [
    {
     "name": "stdout",
     "output_type": "stream",
     "text": [
      "Max\n"
     ]
    }
   ],
   "source": [
    "item = mytuple[0]\n",
    "print(item)"
   ]
  },
  {
   "cell_type": "code",
   "execution_count": 6,
   "metadata": {},
   "outputs": [
    {
     "ename": "TypeError",
     "evalue": "'tuple' object does not support item assignment",
     "output_type": "error",
     "traceback": [
      "\u001b[0;31m---------------------------------------------------------------------------\u001b[0m",
      "\u001b[0;31mTypeError\u001b[0m                                 Traceback (most recent call last)",
      "\u001b[0;32m<ipython-input-6-5dbaba07de08>\u001b[0m in \u001b[0;36m<module>\u001b[0;34m\u001b[0m\n\u001b[0;32m----> 1\u001b[0;31m \u001b[0mmytuple\u001b[0m\u001b[0;34m[\u001b[0m\u001b[0;36m0\u001b[0m\u001b[0;34m]\u001b[0m \u001b[0;34m=\u001b[0m\u001b[0;34m'tim'\u001b[0m\u001b[0;34m\u001b[0m\u001b[0;34m\u001b[0m\u001b[0m\n\u001b[0m",
      "\u001b[0;31mTypeError\u001b[0m: 'tuple' object does not support item assignment"
     ]
    }
   ],
   "source": [
    "#tuples are immuteable unlike lists we cant change the values\n",
    "\n",
    "mytuple[0] ='tim'"
   ]
  },
  {
   "cell_type": "code",
   "execution_count": 7,
   "metadata": {},
   "outputs": [
    {
     "name": "stdout",
     "output_type": "stream",
     "text": [
      "Max\n",
      "28\n",
      "Boston\n"
     ]
    }
   ],
   "source": [
    "for i in mytuple:\n",
    "    print(i)"
   ]
  },
  {
   "cell_type": "code",
   "execution_count": 9,
   "metadata": {},
   "outputs": [
    {
     "name": "stdout",
     "output_type": "stream",
     "text": [
      "yes\n"
     ]
    }
   ],
   "source": [
    "if 'Max' in mytuple:\n",
    "    print('yes')\n",
    "else:\n",
    "    print('no')"
   ]
  },
  {
   "cell_type": "code",
   "execution_count": 10,
   "metadata": {},
   "outputs": [],
   "source": [
    "my_tuple = 'a','p','p','l','e'"
   ]
  },
  {
   "cell_type": "code",
   "execution_count": 11,
   "metadata": {},
   "outputs": [
    {
     "name": "stdout",
     "output_type": "stream",
     "text": [
      "2\n"
     ]
    }
   ],
   "source": [
    "print(my_tuple.count('p'))\n",
    "#how many ps are in the tuple"
   ]
  },
  {
   "cell_type": "code",
   "execution_count": 12,
   "metadata": {},
   "outputs": [
    {
     "name": "stdout",
     "output_type": "stream",
     "text": [
      "1\n"
     ]
    }
   ],
   "source": [
    "print(my_tuple.index('p'))\n",
    "#first index of the letter p"
   ]
  },
  {
   "cell_type": "code",
   "execution_count": 17,
   "metadata": {},
   "outputs": [
    {
     "name": "stdout",
     "output_type": "stream",
     "text": [
      "<class 'list'>\n",
      "['a', 'p', 'p', 'l', 'e']\n",
      "<class 'tuple'>\n",
      "('a', 'p', 'p', 'l', 'e')\n"
     ]
    }
   ],
   "source": [
    "my_list = list(my_tuple)\n",
    "print(type(my_list))\n",
    "print(my_list)\n",
    "my_tuple2 = tuple(my_list)\n",
    "print(type(my_tuple2))\n",
    "print(my_tuple2)"
   ]
  },
  {
   "cell_type": "code",
   "execution_count": 20,
   "metadata": {},
   "outputs": [
    {
     "name": "stdout",
     "output_type": "stream",
     "text": [
      "(10, 9, 8, 7, 6, 5, 4, 3, 2, 1)\n"
     ]
    }
   ],
   "source": [
    "#slice\n",
    "a = 1,2,3,4,5,6,7,8,9,10\n",
    "\n",
    "b = a[::-1]\n",
    "\n",
    "print(b)"
   ]
  },
  {
   "cell_type": "code",
   "execution_count": 21,
   "metadata": {},
   "outputs": [
    {
     "name": "stdout",
     "output_type": "stream",
     "text": [
      "Max\n",
      "28\n",
      "Boston\n"
     ]
    }
   ],
   "source": [
    "#naming elements\n",
    "\n",
    "my_tuple = 'Max',28,'Boston'\n",
    "name,age,city = my_tuple\n",
    "\n",
    "print(name)\n",
    "print(age)\n",
    "print(city)\n",
    "\n",
    "#the number of elements must match the number in the tuple or you get an error\n",
    "\n"
   ]
  },
  {
   "cell_type": "code",
   "execution_count": 22,
   "metadata": {},
   "outputs": [
    {
     "name": "stdout",
     "output_type": "stream",
     "text": [
      "0\n",
      "4\n",
      "[1, 2, 3]\n"
     ]
    }
   ],
   "source": [
    "#one solution is to use * which will pack all of the unused elements into a resulting list\n",
    "\n",
    "my_tuple = 0,1,2,3,4\n",
    "i1,*i2,i3 = my_tuple\n",
    "\n",
    "print(i1)\n",
    "print(i3)\n",
    "print(i2)"
   ]
  },
  {
   "cell_type": "code",
   "execution_count": 23,
   "metadata": {},
   "outputs": [
    {
     "name": "stdout",
     "output_type": "stream",
     "text": [
      "112 bytes\n",
      "96 bytes\n"
     ]
    }
   ],
   "source": [
    "#lists are larger in size than tuples (memory) \n",
    "import sys\n",
    "mylist = [0,1,2,\"a\",\"b\"]\n",
    "mytuple = (0,1,2,\"a\",\"b\")\n",
    "\n",
    "print(sys.getsizeof(mylist),\"bytes\")\n",
    "print(sys.getsizeof(mytuple),\"bytes\")"
   ]
  },
  {
   "cell_type": "code",
   "execution_count": null,
   "metadata": {},
   "outputs": [],
   "source": [
    "#tuples are more efficent to iterate and to create\n",
    "\n",
    "import timeit\n",
    "print(timeit.timeit(stmt-'[0,1,2,3,4,5]',number=1000000)\n",
    "      print(timeit.timeit(stmt-'[0,1,2,3,4,5]',number=1000000)"
   ]
  }
 ],
 "metadata": {
  "kernelspec": {
   "display_name": "venv",
   "language": "python",
   "name": "venv"
  },
  "language_info": {
   "codemirror_mode": {
    "name": "ipython",
    "version": 3
   },
   "file_extension": ".py",
   "mimetype": "text/x-python",
   "name": "python",
   "nbconvert_exporter": "python",
   "pygments_lexer": "ipython3",
   "version": "3.7.6"
  },
  "toc": {
   "base_numbering": 1,
   "nav_menu": {},
   "number_sections": true,
   "sideBar": true,
   "skip_h1_title": false,
   "title_cell": "Table of Contents",
   "title_sidebar": "Contents",
   "toc_cell": false,
   "toc_position": {},
   "toc_section_display": true,
   "toc_window_display": false
  }
 },
 "nbformat": 4,
 "nbformat_minor": 2
}

{
 "cells": [
  {
   "cell_type": "code",
   "execution_count": 1,
   "metadata": {
    "ExecuteTime": {
     "end_time": "2020-04-02T03:41:46.755685Z",
     "start_time": "2020-04-02T03:41:46.753259Z"
    }
   },
   "outputs": [],
   "source": [
    "# https://www.youtube.com/watch?v=UdcPhnNjSEw&list=PLqnslRFeH2UqLwzS0AwKDKLrpYBKzLBy2&index=7&t=0s\n",
    "\n",
    "#collections: Counter, namedtuple,OrderdDict, defaultdict, deque"
   ]
  },
  {
   "cell_type": "code",
   "execution_count": 2,
   "metadata": {
    "ExecuteTime": {
     "end_time": "2020-04-02T03:41:47.411093Z",
     "start_time": "2020-04-02T03:41:47.408273Z"
    }
   },
   "outputs": [],
   "source": [
    "from collections import Counter"
   ]
  },
  {
   "cell_type": "code",
   "execution_count": 3,
   "metadata": {
    "ExecuteTime": {
     "end_time": "2020-04-02T03:41:48.087699Z",
     "start_time": "2020-04-02T03:41:48.081114Z"
    }
   },
   "outputs": [
    {
     "name": "stdout",
     "output_type": "stream",
     "text": [
      "Counter({'a': 7, 'b': 4, 'c': 4})\n",
      "dict_items([('a', 7), ('b', 4), ('c', 4)])\n",
      "dict_keys(['a', 'b', 'c'])\n",
      "dict_values([7, 4, 4])\n",
      "[('a', 7), ('b', 4)]\n",
      "a\n",
      "['a', 'a', 'a', 'a', 'a', 'a', 'a', 'b', 'b', 'b', 'b', 'c', 'c', 'c', 'c']\n"
     ]
    }
   ],
   "source": [
    "#container is a container that stores the elements as dictionary keys and their counts as values\n",
    "\n",
    "a = 'aaaaaaabbbbcccc'\n",
    "my_counter = Counter(a)\n",
    "print(my_counter)\n",
    "print(my_counter.items())\n",
    "print(my_counter.keys())\n",
    "print(my_counter.values())\n",
    "print(my_counter.most_common(2)) # number indicates the 1 or 2 most common types this is a list with tuples in it\n",
    "\n",
    "print(my_counter.most_common(1)[0][0]) # gets most common element\n",
    "\n",
    "print(list(my_counter.elements())) # gets most common element\n",
    "\n"
   ]
  },
  {
   "cell_type": "code",
   "execution_count": 4,
   "metadata": {
    "ExecuteTime": {
     "end_time": "2020-04-02T03:41:49.176480Z",
     "start_time": "2020-04-02T03:41:49.174039Z"
    }
   },
   "outputs": [],
   "source": [
    "from collections import namedtuple"
   ]
  },
  {
   "cell_type": "code",
   "execution_count": 5,
   "metadata": {
    "ExecuteTime": {
     "end_time": "2020-04-02T03:41:53.034670Z",
     "start_time": "2020-04-02T03:41:53.030380Z"
    }
   },
   "outputs": [
    {
     "name": "stdout",
     "output_type": "stream",
     "text": [
      "point(x=1, y=-4)\n",
      "1 -4\n"
     ]
    }
   ],
   "source": [
    "point = namedtuple('point','x,y') # creates a class called point with fields x and y\n",
    "\n",
    "pt = point(1,-4)\n",
    "print(pt)\n",
    "print(pt.x,pt.y)"
   ]
  },
  {
   "cell_type": "code",
   "execution_count": 15,
   "metadata": {
    "ExecuteTime": {
     "end_time": "2020-03-26T19:37:59.339739Z",
     "start_time": "2020-03-26T19:37:59.337174Z"
    }
   },
   "outputs": [],
   "source": [
    "from collections import OrderedDict"
   ]
  },
  {
   "cell_type": "code",
   "execution_count": 17,
   "metadata": {
    "ExecuteTime": {
     "end_time": "2020-03-26T19:40:11.211428Z",
     "start_time": "2020-03-26T19:40:11.206723Z"
    }
   },
   "outputs": [
    {
     "name": "stdout",
     "output_type": "stream",
     "text": [
      "OrderedDict([('a', 1), ('b', 2), ('c', 3), ('d', 4), ('3', 5)])\n"
     ]
    }
   ],
   "source": [
    "#not relevant in python 3.7 because dictionaries can now remember orders\n",
    "\n",
    "ordered_dict = OrderedDict()\n",
    "ordered_dict['a'] =1\n",
    "ordered_dict['b'] =2\n",
    "ordered_dict['c'] =3\n",
    "ordered_dict['d'] =4\n",
    "ordered_dict['3'] =5\n",
    "\n",
    "print(ordered_dict)"
   ]
  },
  {
   "cell_type": "code",
   "execution_count": 6,
   "metadata": {
    "ExecuteTime": {
     "end_time": "2020-04-02T17:49:26.632433Z",
     "start_time": "2020-04-02T17:49:26.627430Z"
    }
   },
   "outputs": [
    {
     "name": "stdout",
     "output_type": "stream",
     "text": [
      "defaultdict(<class 'int'>, {'a': 1, 'b': 2})\n",
      "1\n",
      "2\n",
      "0\n"
     ]
    }
   ],
   "source": [
    "from collections import defaultdict\n",
    "#a dictionary with a defualt value\n",
    "\n",
    "d = defaultdict(int)\n",
    "# d = defaultdict(list)\n",
    "# d = defaultdict(float)\n",
    "d['a']=1\n",
    "d['b'] = 2\n",
    "print(d)\n",
    "print(d['a'])\n",
    "print(d['b'])\n",
    "print(d['c']) #returns default vaule which is an int of 0, empty list, or float value"
   ]
  },
  {
   "cell_type": "code",
   "execution_count": 15,
   "metadata": {
    "ExecuteTime": {
     "end_time": "2020-04-02T17:55:22.744969Z",
     "start_time": "2020-04-02T17:55:22.737759Z"
    }
   },
   "outputs": [
    {
     "name": "stdout",
     "output_type": "stream",
     "text": [
      "deque([3, 1, 2])\n",
      "deque([3, 1])\n",
      "deque([1])\n",
      "deque([])\n",
      "deque([4, 5, 6])\n",
      "deque([1, 2, 1, 4, 5, 6])\n",
      "deque([6, 1, 2, 1, 4, 5])\n",
      "deque([1, 2, 1, 4, 5, 6])\n"
     ]
    }
   ],
   "source": [
    "from collections import deque\n",
    "#double ended que can be used to add or remove elements from both ends\n",
    "\n",
    "d = deque()\n",
    "\n",
    "d.append(1)\n",
    "d.append(2)\n",
    "\n",
    "d.appendleft(3) #adds elements to the left side\n",
    "print(d)\n",
    "d.pop() #removes last element\n",
    "print(d)\n",
    "d.popleft()\n",
    "print(d)\n",
    "\n",
    "d.clear() #removes all elements\n",
    "print(d)\n",
    "\n",
    "d.extend([4,5,6]) #adds multiple elements\n",
    "\n",
    "print(d)\n",
    "d.extendleft([1,2,1])\n",
    "print(d)\n",
    "\n",
    "d.rotate(1) #rotates all elements 1 place to the right\n",
    "print(d)\n",
    "\n",
    "d.rotate(-1) #rotates all 1 place to the left\n",
    "\n",
    "print(d)"
   ]
  },
  {
   "cell_type": "code",
   "execution_count": null,
   "metadata": {},
   "outputs": [],
   "source": []
  }
 ],
 "metadata": {
  "kernelspec": {
   "display_name": "venv",
   "language": "python",
   "name": "venv"
  },
  "language_info": {
   "codemirror_mode": {
    "name": "ipython",
    "version": 3
   },
   "file_extension": ".py",
   "mimetype": "text/x-python",
   "name": "python",
   "nbconvert_exporter": "python",
   "pygments_lexer": "ipython3",
   "version": "3.7.6"
  },
  "toc": {
   "base_numbering": 1,
   "nav_menu": {},
   "number_sections": true,
   "sideBar": true,
   "skip_h1_title": false,
   "title_cell": "Table of Contents",
   "title_sidebar": "Contents",
   "toc_cell": false,
   "toc_position": {},
   "toc_section_display": true,
   "toc_window_display": false
  }
 },
 "nbformat": 4,
 "nbformat_minor": 2
}

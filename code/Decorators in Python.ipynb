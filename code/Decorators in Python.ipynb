{
 "nbformat": 4,
 "nbformat_minor": 2,
 "metadata": {
  "language_info": {
   "name": "python",
   "codemirror_mode": {
    "name": "ipython",
    "version": 3
   },
   "version": "3.7.6-final"
  },
  "orig_nbformat": 2,
  "file_extension": ".py",
  "mimetype": "text/x-python",
  "name": "python",
  "npconvert_exporter": "python",
  "pygments_lexer": "ipython3",
  "version": 3,
  "kernelspec": {
   "name": "python37664bitvenvvenv68b444bbdb9248a4befa50582545e3e5",
   "display_name": "Python 3.7.6 64-bit ('venv': venv)"
  }
 },
 "cells": [
  {
   "cell_type": "code",
   "execution_count": 1,
   "metadata": {},
   "outputs": [],
   "source": [
    "# https://www.youtube.com/watch?v=FXUUSfJO_J4&list=PLqnslRFeH2UqLwzS0AwKDKLrpYBKzLBy2&index=13\n",
    "\n",
    "#function and class decorators"
   ]
  },
  {
   "cell_type": "code",
   "execution_count": 3,
   "metadata": {},
   "outputs": [],
   "source": [
    "#function decorators\n",
    "#a decorator allows you to add new functionality to an existing function\n",
    "\n",
    "# @mydecorator\n",
    "def dosomething():\n",
    "    pass\n",
    "\n",
    "#functions are first class objects\n",
    "#they can be returned, defined, passed to other functions \n",
    "\n",
    "\n",
    ""
   ]
  },
  {
   "cell_type": "code",
   "execution_count": 5,
   "metadata": {},
   "outputs": [
    {
     "output_type": "stream",
     "name": "stdout",
     "text": "~~start\nAlex\n~~end\n"
    }
   ],
   "source": [
    "#ex\n",
    "\n",
    "def start_end_decorator(func):\n",
    "\n",
    "        def wrapper():\n",
    "            #do something before\n",
    "            print('~~start')\n",
    "            func()\n",
    "            #do something after\n",
    "            print('~~end')\n",
    "        return wrapper\n",
    "\n",
    "\n",
    "def print_name():\n",
    "    print('Alex')\n",
    "\n",
    "\n",
    "print_name = start_end_decorator(print_name)\n",
    "\n",
    "print_name()"
   ]
  },
  {
   "cell_type": "code",
   "execution_count": 7,
   "metadata": {},
   "outputs": [
    {
     "output_type": "stream",
     "name": "stdout",
     "text": "~~start\nDave\n~~end\n"
    }
   ],
   "source": [
    "#alternatieve syntax\n",
    "\n",
    "@start_end_decorator #use thsi instead of passing the function to the decorator\n",
    "def print_name():\n",
    "    print('Dave')\n",
    "\n",
    "print_name()"
   ]
  },
  {
   "cell_type": "code",
   "execution_count": 10,
   "metadata": {},
   "outputs": [
    {
     "output_type": "error",
     "ename": "TypeError",
     "evalue": "wrapper() takes 0 positional arguments but 1 was given",
     "traceback": [
      "\u001b[0;31m---------------------------------------------------------------------------\u001b[0m",
      "\u001b[0;31mTypeError\u001b[0m                                 Traceback (most recent call last)",
      "\u001b[0;32m<ipython-input-10-f3624e382e6e>\u001b[0m in \u001b[0;36m<module>\u001b[0;34m\u001b[0m\n\u001b[1;32m      3\u001b[0m     \u001b[0;32mreturn\u001b[0m \u001b[0mx\u001b[0m \u001b[0;34m+\u001b[0m \u001b[0;36m5\u001b[0m\u001b[0;34m\u001b[0m\u001b[0;34m\u001b[0m\u001b[0m\n\u001b[1;32m      4\u001b[0m \u001b[0;34m\u001b[0m\u001b[0m\n\u001b[0;32m----> 5\u001b[0;31m \u001b[0madd5\u001b[0m\u001b[0;34m(\u001b[0m\u001b[0;36m1\u001b[0m\u001b[0;34m)\u001b[0m\u001b[0;34m\u001b[0m\u001b[0;34m\u001b[0m\u001b[0m\n\u001b[0m",
      "\u001b[0;31mTypeError\u001b[0m: wrapper() takes 0 positional arguments but 1 was given"
     ]
    }
   ],
   "source": [
    "\n",
    "@start_end_decorator \n",
    "def add5(x):\n",
    "    return x + 5\n",
    "\n",
    "add5(1)\n",
    "\n",
    "# This returns an error because the same arguements in the function need to be in the wrapper"
   ]
  },
  {
   "cell_type": "code",
   "execution_count": 17,
   "metadata": {},
   "outputs": [
    {
     "output_type": "stream",
     "name": "stdout",
     "text": "~~start\n~~end\n"
    },
    {
     "output_type": "execute_result",
     "data": {
      "text/plain": "6"
     },
     "metadata": {},
     "execution_count": 17
    }
   ],
   "source": [
    "import functools\n",
    "\n",
    "def start_end_decorator(func):\n",
    "#this syntax lets you use all of the arguemtns  and keyword arguemetns you want\n",
    "        @functools.wraps(func) #preservs info of func\n",
    "        def wrapper(*args,**kwargs):\n",
    "            #do something before\n",
    "            print('~~start')\n",
    "            result = func(*args,**kwargs)\n",
    "            #do something after\n",
    "            print('~~end')\n",
    "            return result #need to return the\n",
    "\n",
    "        return wrapper\n",
    "\n",
    "@start_end_decorator \n",
    "def add5(x):\n",
    "    return x + 5\n",
    "\n",
    "add5(1)\n",
    ""
   ]
  },
  {
   "cell_type": "code",
   "execution_count": 18,
   "metadata": {},
   "outputs": [
    {
     "output_type": "stream",
     "name": "stdout",
     "text": "Help on function add5 in module __main__:\n\nadd5(x)\n\nNone\nadd5\n"
    }
   ],
   "source": [
    "print(help(add5))\n",
    "print(add5.__name__)"
   ]
  },
  {
   "cell_type": "code",
   "execution_count": 20,
   "metadata": {},
   "outputs": [
    {
     "output_type": "execute_result",
     "data": {
      "text/plain": "6"
     },
     "metadata": {},
     "execution_count": 20
    }
   ],
   "source": [
    "#decorator template\n",
    "\n",
    "import functools\n",
    "\n",
    "def start_end_decorator(func):\n",
    "        @functools.wraps(func) \n",
    "        def wrapper(*args,**kwargs):\n",
    "            #do something before\n",
    "            result = func(*args,**kwargs)\n",
    "            #do something after\n",
    "            return result \n",
    "        return wrapper\n",
    "\n",
    "@start_end_decorator \n",
    "def add5(x):\n",
    "    return x + 5\n",
    "\n",
    "add5(1)"
   ]
  },
  {
   "cell_type": "code",
   "execution_count": 3,
   "metadata": {},
   "outputs": [
    {
     "output_type": "stream",
     "name": "stdout",
     "text": "Hello Alex\nHello Alex\nHello Alex\nHello Alex\n"
    }
   ],
   "source": [
    "#decorators with arguements\n",
    "\n",
    "import functools\n",
    "\n",
    "\n",
    "def repeat(num_times):\n",
    "    def decorator_repeat(func):\n",
    "        @functools.wraps(func)\n",
    "        def wrapper(*args,**kwargs):\n",
    "            for _ in range(num_times):\n",
    "                result = func(*args,**kwargs)\n",
    "            return result\n",
    "        return wrapper\n",
    "    return decorator_repeat\n",
    "\n",
    "\n",
    "\n",
    "@repeat(num_times = 4)\n",
    "def greet(name):\n",
    "    print(f'Hello {name}')\n",
    "\n",
    "\n",
    "greet('Alex')"
   ]
  },
  {
   "cell_type": "code",
   "execution_count": 4,
   "metadata": {},
   "outputs": [
    {
     "output_type": "stream",
     "name": "stdout",
     "text": "Calling say_hello('Alex')\nStart\nHello Alex\nend\n'say_hello' returned 'Hello Alex'\n"
    },
    {
     "output_type": "execute_result",
     "data": {
      "text/plain": "'Hello Alex'"
     },
     "metadata": {},
     "execution_count": 4
    }
   ],
   "source": [
    "#nested decorators\n",
    "\n",
    "\n",
    "import functools\n",
    "\n",
    "def debug(func):\n",
    "    @functools.wraps(func)\n",
    "    def wrapper(*args,**kwargs):\n",
    "        args_repr = [repr(a) for a in args]\n",
    "        kwargs_repr = [f\"{k}={v!r}\" for k,v in kwargs.items()]\n",
    "        signature = \", \".join(args_repr + kwargs_repr)\n",
    "        print(f\"Calling {func.__name__}({signature})\")\n",
    "        result = func(*args,**kwargs)\n",
    "        print(f\"{func.__name__!r} returned {result!r}\")\n",
    "        return result\n",
    "    return wrapper\n",
    "\n",
    "\n",
    "\n",
    "def start_end_decorator(func):\n",
    "        @functools.wraps(func) \n",
    "        def wrapper(*args,**kwargs):\n",
    "            print('Start')\n",
    "            result = func(*args,**kwargs)\n",
    "            print('end')\n",
    "            return result \n",
    "        return wrapper\n",
    "\n",
    "@debug\n",
    "@start_end_decorator\n",
    "def say_hello(name):\n",
    "        greeting = f'Hello {name}'\n",
    "        print(greeting)\n",
    "        return greeting\n",
    "\n",
    "say_hello('Alex')"
   ]
  },
  {
   "cell_type": "code",
   "execution_count": 15,
   "metadata": {},
   "outputs": [
    {
     "output_type": "stream",
     "name": "stdout",
     "text": "This is executed 1 times.\nHello\nThis is executed 2 times.\nHello\nThis is executed 3 times.\nHello\nThis is executed 4 times.\nHello\nThis is executed 5 times.\nHello\nThis is executed 6 times.\nHello\nThis is executed 7 times.\nHello\nThis is executed 8 times.\nHello\nThis is executed 9 times.\nHello\nThis is executed 10 times.\nHello\n"
    }
   ],
   "source": [
    "#class decorators - do the same thing as function decorators but are used if we want to update a state\n",
    "\n",
    "class CountCalls:\n",
    "\n",
    "        def __init__(self, func):\n",
    "            self.func = func\n",
    "            self.num_calls = 0\n",
    "\n",
    "        def __call__(self, *args,**kwargs):\n",
    "            self.num_calls += 1\n",
    "            print(f'This is executed {self.num_calls} times.')\n",
    "            return self.func(*args,**kwargs)\n",
    "\n",
    "\n",
    "\n",
    "@CountCalls\n",
    "def say_hello():\n",
    "    print('Hello')\n",
    "\n",
    "\n",
    "for i in range(10):\n",
    "    say_hello()"
   ]
  },
  {
   "cell_type": "code",
   "execution_count": null,
   "metadata": {},
   "outputs": [],
   "source": [
    "#usecases\n",
    "    #timer decorator to calc execution time of function\n",
    "    #debug decorator to print more info about function and arguements\n",
    "    #check decorator to validate arguements and adapt behavior of a function\n",
    "    #register functions or plugins\n",
    "    #cache return values\n",
    "    #add information\n",
    "    #update the state"
   ]
  },
  {
   "cell_type": "code",
   "execution_count": null,
   "metadata": {},
   "outputs": [],
   "source": []
  }
 ]
}
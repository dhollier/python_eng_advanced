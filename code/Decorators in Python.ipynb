{
 "nbformat": 4,
 "nbformat_minor": 2,
 "metadata": {
  "language_info": {
   "name": "python",
   "codemirror_mode": {
    "name": "ipython",
    "version": 3
   },
   "version": "3.7.6-final"
  },
  "orig_nbformat": 2,
  "file_extension": ".py",
  "mimetype": "text/x-python",
  "name": "python",
  "npconvert_exporter": "python",
  "pygments_lexer": "ipython3",
  "version": 3,
  "kernelspec": {
   "name": "python37664bitvenvvenv68b444bbdb9248a4befa50582545e3e5",
   "display_name": "Python 3.7.6 64-bit ('venv': venv)"
  }
 },
 "cells": [
  {
   "cell_type": "code",
   "execution_count": 1,
   "metadata": {},
   "outputs": [],
   "source": [
    "# https://www.youtube.com/watch?v=FXUUSfJO_J4&list=PLqnslRFeH2UqLwzS0AwKDKLrpYBKzLBy2&index=13\n",
    "\n",
    "#function and class decorators"
   ]
  },
  {
   "cell_type": "code",
   "execution_count": 3,
   "metadata": {},
   "outputs": [],
   "source": [
    "#function decorators\n",
    "#a decorator allows you to add new functionality to an existing function\n",
    "\n",
    "# @mydecorator\n",
    "def dosomething():\n",
    "    pass\n",
    "\n",
    "#functions are first class objects\n",
    "#they can be returned, defined, passed to other functions \n",
    "\n",
    "\n",
    ""
   ]
  },
  {
   "cell_type": "code",
   "execution_count": 5,
   "metadata": {},
   "outputs": [
    {
     "output_type": "stream",
     "name": "stdout",
     "text": "~~start\nAlex\n~~end\n"
    }
   ],
   "source": [
    "#ex\n",
    "\n",
    "def start_end_decorator(func):\n",
    "\n",
    "        def wrapper():\n",
    "            #do something before\n",
    "            print('~~start')\n",
    "            func()\n",
    "            #do something after\n",
    "            print('~~end')\n",
    "        return wrapper\n",
    "\n",
    "\n",
    "def print_name():\n",
    "    print('Alex')\n",
    "\n",
    "\n",
    "print_name = start_end_decorator(print_name)\n",
    "\n",
    "print_name()"
   ]
  },
  {
   "cell_type": "code",
   "execution_count": 7,
   "metadata": {},
   "outputs": [
    {
     "output_type": "stream",
     "name": "stdout",
     "text": "~~start\nDave\n~~end\n"
    }
   ],
   "source": [
    "#alternatieve syntax\n",
    "\n",
    "@start_end_decorator #use thsi instead of passing the function to the decorator\n",
    "def print_name():\n",
    "    print('Dave')\n",
    "\n",
    "print_name()"
   ]
  },
  {
   "cell_type": "code",
   "execution_count": 10,
   "metadata": {},
   "outputs": [
    {
     "output_type": "error",
     "ename": "TypeError",
     "evalue": "wrapper() takes 0 positional arguments but 1 was given",
     "traceback": [
      "\u001b[0;31m---------------------------------------------------------------------------\u001b[0m",
      "\u001b[0;31mTypeError\u001b[0m                                 Traceback (most recent call last)",
      "\u001b[0;32m<ipython-input-10-f3624e382e6e>\u001b[0m in \u001b[0;36m<module>\u001b[0;34m\u001b[0m\n\u001b[1;32m      3\u001b[0m     \u001b[0;32mreturn\u001b[0m \u001b[0mx\u001b[0m \u001b[0;34m+\u001b[0m \u001b[0;36m5\u001b[0m\u001b[0;34m\u001b[0m\u001b[0;34m\u001b[0m\u001b[0m\n\u001b[1;32m      4\u001b[0m \u001b[0;34m\u001b[0m\u001b[0m\n\u001b[0;32m----> 5\u001b[0;31m \u001b[0madd5\u001b[0m\u001b[0;34m(\u001b[0m\u001b[0;36m1\u001b[0m\u001b[0;34m)\u001b[0m\u001b[0;34m\u001b[0m\u001b[0;34m\u001b[0m\u001b[0m\n\u001b[0m",
      "\u001b[0;31mTypeError\u001b[0m: wrapper() takes 0 positional arguments but 1 was given"
     ]
    }
   ],
   "source": [
    "\n",
    "@start_end_decorator \n",
    "def add5(x):\n",
    "    return x + 5\n",
    "\n",
    "add5(1)\n",
    "\n",
    "# This returns an error because the same arguements in the function need to be in the wrapper"
   ]
  },
  {
   "cell_type": "code",
   "execution_count": 17,
   "metadata": {},
   "outputs": [
    {
     "output_type": "stream",
     "name": "stdout",
     "text": "~~start\n~~end\n"
    },
    {
     "output_type": "execute_result",
     "data": {
      "text/plain": "6"
     },
     "metadata": {},
     "execution_count": 17
    }
   ],
   "source": [
    "import functools\n",
    "\n",
    "def start_end_decorator(func):\n",
    "#this syntax lets you use all of the arguemtns  and keyword arguemetns you want\n",
    "        @functools.wraps(func) #preservs info of func\n",
    "        def wrapper(*args,**kwargs):\n",
    "            #do something before\n",
    "            print('~~start')\n",
    "            result = func(*args,**kwargs)\n",
    "            #do something after\n",
    "            print('~~end')\n",
    "            return result #need to return the\n",
    "\n",
    "        return wrapper\n",
    "\n",
    "@start_end_decorator \n",
    "def add5(x):\n",
    "    return x + 5\n",
    "\n",
    "add5(1)\n",
    ""
   ]
  },
  {
   "cell_type": "code",
   "execution_count": 18,
   "metadata": {},
   "outputs": [
    {
     "output_type": "stream",
     "name": "stdout",
     "text": "Help on function add5 in module __main__:\n\nadd5(x)\n\nNone\nadd5\n"
    }
   ],
   "source": [
    "print(help(add5))\n",
    "print(add5.__name__)"
   ]
  },
  {
   "cell_type": "code",
   "execution_count": 20,
   "metadata": {},
   "outputs": [
    {
     "output_type": "execute_result",
     "data": {
      "text/plain": "6"
     },
     "metadata": {},
     "execution_count": 20
    }
   ],
   "source": [
    "#decorator template\n",
    "\n",
    "import functools\n",
    "\n",
    "def start_end_decorator(func):\n",
    "        @functools.wraps(func) \n",
    "        def wrapper(*args,**kwargs):\n",
    "            #do something before\n",
    "            result = func(*args,**kwargs)\n",
    "            #do something after\n",
    "            return result \n",
    "        return wrapper\n",
    "\n",
    "@start_end_decorator \n",
    "def add5(x):\n",
    "    return x + 5\n",
    "\n",
    "add5(1)"
   ]
  },
  {
   "cell_type": "code",
   "execution_count": null,
   "metadata": {},
   "outputs": [],
   "source": []
  }
 ]
}